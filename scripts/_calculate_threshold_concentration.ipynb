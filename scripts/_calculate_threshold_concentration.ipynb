{
 "cells": [
  {
   "cell_type": "markdown",
   "metadata": {},
   "source": [
    "# Estimate threshold concentration\n",
    "\n",
    "1. Calculate total volume of Lake Michigan (units cubic meters)\n",
    "2. Calculate total annual load entering the lake (units mg)\n",
    "3. Calculate well mixed concentration (Load/Vol) (units mg/m3 == ug/L)\n",
    "\n",
    "### Results\n",
    "- Volume is 4.8987714449E12 m3 (close to what google tells me)\n",
    "- Annual load is 1.90375E12 mg\n",
    "- Well mixed concentration is 0.389 mg/m3"
   ]
  },
  {
   "cell_type": "code",
   "execution_count": 1,
   "metadata": {
    "collapsed": true
   },
   "outputs": [],
   "source": [
    "import xarray as xr\n",
    "import numpy as np\n",
    "import pandas as pd"
   ]
  },
  {
   "cell_type": "code",
   "execution_count": 2,
   "metadata": {
    "collapsed": true
   },
   "outputs": [],
   "source": [
    "def get_model_grid():\n",
    "    \"\"\"\n",
    "    docstring\n",
    "    SA : surface area of each cell (m2)\n",
    "    depth : depth of each cell (m)\n",
    "    lon : longitude (deg)\n",
    "    lat : latitude (deg)\n",
    "    drF : r cell face separation (m)\n",
    "    rA : face area at cell (m)\n",
    "    dlon : diff in lon (deg)\n",
    "    dlat : diff in lat (deg)\n",
    "    volCell : volume of surface cells (m3)\n",
    "    volLake : volume of lake (m3)\n",
    "    \"\"\"\n",
    "    # Read grid file\n",
    "    gridDir = '/Users/gloege/Documents/Projects/MITgcm-Michigan-Phosphorus/data/raw/'\n",
    "    gridFile = gridDir + 'grid_lake_michigan.nc'\n",
    "    ds = xr.open_dataset(gridFile)\n",
    "\n",
    "    # Variables\n",
    "    SA = ds['rA'].values\n",
    "    depth = ds['Depth'].values\n",
    "    lon = ds['X'].values\n",
    "    lat = ds['Y'].values\n",
    "    drF = ds['drF'].values\n",
    "    rA = ds['rA'].values\n",
    "    dlon = np.diff(lon[0:2]) / 2\n",
    "    dlat = np.diff(lat[0:2]) / 2\n",
    "    volCell = rA * drF[0]\n",
    "    vol = SA * depth\n",
    "    volLake = np.sum(vol.flat)\n",
    "\n",
    "    # output\n",
    "    out = {'SA': SA,\n",
    "           'depth': depth,\n",
    "           'lon': lon,\n",
    "           'lat': lat,\n",
    "           'drF': drF,\n",
    "           'rA': rA,\n",
    "           'dlon': dlon,\n",
    "           'dlat': dlat,\n",
    "           'volCell': volCell,\n",
    "           'vol': vol,\n",
    "           'volLake': volLake}\n",
    "\n",
    "    return out"
   ]
  },
  {
   "cell_type": "markdown",
   "metadata": {},
   "source": [
    "# calculate well mixed concentration"
   ]
  },
  {
   "cell_type": "code",
   "execution_count": 3,
   "metadata": {},
   "outputs": [
    {
     "name": "stdout",
     "output_type": "stream",
     "text": [
      "0.388617844578734  mg/m3\n"
     ]
    }
   ],
   "source": [
    "### ==========================================================\n",
    "### Load grid\n",
    "### ==========================================================\n",
    "grid = get_model_grid()\n",
    "\n",
    "### ==========================================================\n",
    "### Define Variables \n",
    "### ==========================================================\n",
    "vol_columns = grid['depth']*grid['SA']\n",
    "vol = np.sum(vol_columns.flatten())\n",
    "#print('Volume is :', vol, 'm3')\n",
    "\n",
    "### ==========================================================\n",
    "### 1. Read data\n",
    "### ==========================================================\n",
    "ploadDir = '/Users/gloege/Documents/Projects/MITgcm-Michigan-Phosphorus/data/raw/'\n",
    "df_dolan = pd.read_csv(ploadDir + 'dolan_pload_1994_2008_MTyr.csv', index_col='river')\n",
    "df_wrtds = pd.read_csv(ploadDir + 'wrtds_pload_2007_2010_MTyr.csv', index_col='river')\n",
    "\n",
    "### ==========================================================\n",
    "### 2. Calculate annual load \n",
    "###.   (convert from MT to kg then to mg)\n",
    "### 1000 kg = 1MT\n",
    "### 1000000 mg = 1kg\n",
    "### ==========================================================\n",
    "annual_load = (np.sum(np.sum(df_wrtds[['pload2007',\n",
    "                                       'pload2008',\n",
    "                                       'pload2009',\n",
    "                                       'pload2010']],axis=0).values)/4)* 1000 * 1000000\n",
    "#print(annual_load, ' mg')\n",
    "\n",
    "### ==========================================================\n",
    "### 2. Calculate the well mixed\n",
    "###    concentration by dividing by the lake volume\n",
    "### ==========================================================\n",
    "conc = annual_load/vol\n",
    "print(conc, ' mg/m3')"
   ]
  },
  {
   "cell_type": "code",
   "execution_count": null,
   "metadata": {
    "collapsed": true
   },
   "outputs": [],
   "source": []
  }
 ],
 "metadata": {
  "kernelspec": {
   "display_name": "Python3.6",
   "language": "python",
   "name": "root"
  },
  "language_info": {
   "codemirror_mode": {
    "name": "ipython",
    "version": 3
   },
   "file_extension": ".py",
   "mimetype": "text/x-python",
   "name": "python",
   "nbconvert_exporter": "python",
   "pygments_lexer": "ipython3",
   "version": "3.6.3"
  }
 },
 "nbformat": 4,
 "nbformat_minor": 2
}
