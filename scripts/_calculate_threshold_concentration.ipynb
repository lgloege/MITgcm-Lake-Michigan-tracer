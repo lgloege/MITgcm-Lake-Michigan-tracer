{
 "cells": [
  {
   "cell_type": "markdown",
   "metadata": {},
   "source": [
    "# Estimate threshold concentration\n",
    "\n",
    "1. Calculate total volume of Lake Michigan (units cubic meters)\n",
    "2. Calculate total annual load entering the lake (units mg)\n",
    "3. Calculate well mixed concentration (Load/Vol) (units mg/m3 == ug/L)\n",
    "\n",
    "### Results\n",
    "- Volume is 4.8987714449E12 m3 (Pretty)\n",
    "- Annual load is 1.90375E12 mg\n",
    "- Well mixed concentration is 0.389 mg/m3"
   ]
  },
  {
   "cell_type": "code",
   "execution_count": 1,
   "metadata": {
    "collapsed": true
   },
   "outputs": [],
   "source": [
    "import numpy as np\n",
    "import pandas as pd"
   ]
  },
  {
   "cell_type": "code",
   "execution_count": 2,
   "metadata": {
    "collapsed": true
   },
   "outputs": [],
   "source": [
    "### class to make loading river data easy\n",
    "%run -i /Users/gloege/Documents/Projects/lakeMichigan/scripts/load_rivers.py"
   ]
  },
  {
   "cell_type": "markdown",
   "metadata": {},
   "source": [
    "# calculate well mixed concentration"
   ]
  },
  {
   "cell_type": "code",
   "execution_count": 3,
   "metadata": {},
   "outputs": [
    {
     "name": "stdout",
     "output_type": "stream",
     "text": [
      "0.388617844578734  mg/m3\n"
     ]
    }
   ],
   "source": [
    "### ==========================================================\n",
    "### Rivers object\n",
    "### ==========================================================\n",
    "riv = load_rivers()\n",
    "\n",
    "### ==========================================================\n",
    "### Load grid\n",
    "### ==========================================================\n",
    "grid = riv.get_model_grid()\n",
    "\n",
    "### ==========================================================\n",
    "### Define Variables \n",
    "### ==========================================================\n",
    "vol_columns = grid['depth']*grid['SA']\n",
    "vol = np.sum(vol_columns.flatten())\n",
    "#print('Volume is :', vol, 'm3')\n",
    "\n",
    "### ==========================================================\n",
    "### 1. Read data\n",
    "### ==========================================================\n",
    "ploadDir = '/Users/gloege/Documents/Projects/lakeMichigan/data/'\n",
    "df_dolan = pd.read_csv(ploadDir + 'dolan_pload_1994_2008_MTyr.csv', index_col='river')\n",
    "df_wrtds = pd.read_csv(ploadDir + 'wrtds_pload_2007_2010_MTyr.csv', index_col='river')\n",
    "\n",
    "### ==========================================================\n",
    "### 2. Calculate annual load \n",
    "###.   (convert from MT to kg then to mg)\n",
    "### 1000 kg = 1MT\n",
    "### 1000000 mg = 1kg\n",
    "### ==========================================================\n",
    "annual_load = (np.sum(np.sum(df_wrtds[['pload2007',\n",
    "                                       'pload2008',\n",
    "                                       'pload2009',\n",
    "                                       'pload2010']],axis=0).values)/4)* 1000 * 1000000\n",
    "#print(annual_load, ' mg')\n",
    "\n",
    "### ==========================================================\n",
    "### 2. Calculate the well mixed\n",
    "###    concentration by dividing by the lake volume\n",
    "### ==========================================================\n",
    "conc = annual_load/vol\n",
    "print(conc, ' mg/m3')"
   ]
  }
 ],
 "metadata": {
  "kernelspec": {
   "display_name": "Python3.6",
   "language": "python",
   "name": "root"
  },
  "language_info": {
   "codemirror_mode": {
    "name": "ipython",
    "version": 3
   },
   "file_extension": ".py",
   "mimetype": "text/x-python",
   "name": "python",
   "nbconvert_exporter": "python",
   "pygments_lexer": "ipython3",
   "version": "3.6.3"
  }
 },
 "nbformat": 4,
 "nbformat_minor": 2
}
