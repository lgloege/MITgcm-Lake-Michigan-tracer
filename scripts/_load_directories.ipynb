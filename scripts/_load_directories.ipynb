{
 "cells": [
  {
   "cell_type": "markdown",
   "metadata": {},
   "source": [
    "# _load_directories\n",
    "This just defines your directories. Load this file in each notebook. Change these directories if you switch machines."
   ]
  },
  {
   "cell_type": "markdown",
   "metadata": {},
   "source": [
    "## Data directories"
   ]
  },
  {
   "cell_type": "code",
   "execution_count": 2,
   "metadata": {},
   "outputs": [],
   "source": [
    "dir_data = '/local/data/artemis/workspace/gloege/MITgcm-Michigan-Phosphorus/data'\n",
    "dir_raw = '/local/data/artemis/workspace/gloege/MITgcm-Michigan-Phosphorus/data/raw'\n",
    "dir_clean = '/local/data/artemis/workspace/gloege/MITgcm-Michigan-Phosphorus/data/clean'"
   ]
  },
  {
   "cell_type": "markdown",
   "metadata": {},
   "source": [
    "## Figures directory"
   ]
  },
  {
   "cell_type": "code",
   "execution_count": 3,
   "metadata": {},
   "outputs": [],
   "source": [
    "dir_figs = '/local/data/artemis/workspace/gloege/MITgcm-Michigan-Phosphorus/results/figures'"
   ]
  },
  {
   "cell_type": "markdown",
   "metadata": {},
   "source": [
    "# Display directories"
   ]
  },
  {
   "cell_type": "code",
   "execution_count": 7,
   "metadata": {},
   "outputs": [
    {
     "name": "stdout",
     "output_type": "stream",
     "text": [
      "=====================================\n",
      "DIRECTORIES\n",
      "=====================================\n",
      ">> Raw data\n",
      "/local/data/artemis/workspace/gloege/MITgcm-Michigan-Phosphorus/data/raw\n",
      "\n",
      ">> Clean data\n",
      "/local/data/artemis/workspace/gloege/MITgcm-Michigan-Phosphorus/data/clean\n",
      "\n",
      ">> Figures\n",
      "/local/data/artemis/workspace/gloege/MITgcm-Michigan-Phosphorus/results/figures\n"
     ]
    }
   ],
   "source": [
    "print('=====================================')\n",
    "print('DIRECTORIES')\n",
    "print('=====================================')\n",
    "print('>> {dir_raw}')\n",
    "print(f'{dir_raw}')\n",
    "print('')\n",
    "print('>> {dir_clean}')\n",
    "print(f'{dir_clean}')\n",
    "print('')\n",
    "print('>> {dir_figs}')\n",
    "print(f'{dir_figs}')"
   ]
  },
  {
   "cell_type": "code",
   "execution_count": null,
   "metadata": {},
   "outputs": [],
   "source": []
  }
 ],
 "metadata": {
  "kernelspec": {
   "display_name": "Python 3",
   "language": "python",
   "name": "python3"
  },
  "language_info": {
   "codemirror_mode": {
    "name": "ipython",
    "version": 3
   },
   "file_extension": ".py",
   "mimetype": "text/x-python",
   "name": "python",
   "nbconvert_exporter": "python",
   "pygments_lexer": "ipython3",
   "version": "3.6.5"
  }
 },
 "nbformat": 4,
 "nbformat_minor": 2
}
