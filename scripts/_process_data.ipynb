{
 "cells": [
  {
   "cell_type": "markdown",
   "metadata": {},
   "source": [
    "# Process raw model output\n",
    "\n",
    "This notebook processes the raw model output from `MITgcm-Michigan-phosphorus`. \n",
    "\n",
    "**Raw files:** The raw output files are publicly available [here](https://figshare.com/account/home#/projects/37949)\n",
    "* model grid\n",
    "* Daily simulated surface total phosphorus (TP) for 2007-2010\n",
    "* Ecosystem service (ES) values shapefile\n",
    "\n",
    "**Metrics calculated:**\n",
    "* Normalized ES value : $DT=\\log_{10}(ES+1)$ then $\\frac{DT - min(DT)}{max(DT) - min(DT)}$\n",
    "* Exceedance days (ED) : number of days TP exceeds 0.4\n",
    "* Cumulative stress days (CSD) : total number of days all services are stresed\n",
    "\n",
    "**Processed files location** \n",
    "* `/Users/gloege/Documents/Projects/MITgcm-Michigan-Phosphorus/data/clean/`"
   ]
  },
  {
   "cell_type": "code",
   "execution_count": 1,
   "metadata": {
    "collapsed": true
   },
   "outputs": [],
   "source": [
    "import numpy as np\n",
    "import xarray as xr\n",
    "import xshape\n",
    "import pandas as pd\n",
    "import sys\n",
    "import matplotlib.pyplot as plt\n",
    "%matplotlib inline"
   ]
  },
  {
   "cell_type": "code",
   "execution_count": 2,
   "metadata": {},
   "outputs": [
    {
     "name": "stdout",
     "output_type": "stream",
     "text": [
      "3.6.6 |Anaconda, Inc.| (default, Jun 28 2018, 11:07:29) \n",
      "[GCC 4.2.1 Compatible Clang 4.0.1 (tags/RELEASE_401/final)]\n",
      "-----------------------------------\n",
      "numpy version  : 1.14.3\n",
      "xarray version : 0.10.8\n",
      "pandas version : 0.23.4\n",
      "xshape version : 0.1.1\n"
     ]
    }
   ],
   "source": [
    "print(sys.version)\n",
    "print('-----------------------------------')\n",
    "print(f'numpy version  : {np.__version__}')\n",
    "print(f'xarray version : {xr.__version__}')\n",
    "print(f'pandas version : {pd.__version__}')\n",
    "print(f'xshape version : {xshape.__version__}')"
   ]
  },
  {
   "cell_type": "markdown",
   "metadata": {},
   "source": [
    "# 0. Define functions"
   ]
  },
  {
   "cell_type": "code",
   "execution_count": 3,
   "metadata": {
    "collapsed": true
   },
   "outputs": [],
   "source": [
    "dir_notebook='/Users/gloege/Documents/Projects/MITgcm-Michigan-Phosphorus/scripts/'\n",
    "%run {dir_notebook}_define_functions.ipynb"
   ]
  },
  {
   "cell_type": "markdown",
   "metadata": {},
   "source": [
    "# 1. phosphorus_max_JJA.nc\n",
    "1. Load raw surface concentration (daily averages 2007-2010)\n",
    "2. Calculate cumulative concentration\n",
    "3. Change time vector\n",
    "4. Calculate maximum across JJA in a \"typical\" year. Typical is defined as the the DOY average across 2007-2010\n",
    "5. Save to dataset ds_out and display\n",
    "6. save to netcdf and delete ds_out from memory"
   ]
  },
  {
   "cell_type": "code",
   "execution_count": 4,
   "metadata": {},
   "outputs": [
    {
     "data": {
      "text/plain": [
       "<xarray.Dataset>\n",
       "Dimensions:       (X: 200, Y: 276)\n",
       "Coordinates:\n",
       "  * Y             (Y) float64 41.57 41.59 41.6 41.62 41.64 41.65 41.67 41.69 ...\n",
       "  * X             (X) float64 -88.09 -88.07 -88.06 -88.04 -88.02 -88.01 ...\n",
       "Data variables:\n",
       "    phos_max_JJA  (Y, X) float32 0.0 0.0 0.0 0.0 0.0 0.0 0.0 0.0 0.0 0.0 0.0 ..."
      ]
     },
     "execution_count": 4,
     "metadata": {},
     "output_type": "execute_result"
    }
   ],
   "source": [
    "### =================================================\n",
    "### 1. Open datasets (open_mfdataset opens all globbed files)   \n",
    "### =================================================\n",
    "dir_raw = '/Users/gloege/Documents/Projects/MITgcm-Michigan-Phosphorus/data/raw/'\n",
    "ds = xr.open_mfdataset(f'{dir_raw}ptr_tave.*.surf.nc')\n",
    "ds_grid = xr.open_dataset(f'{dir_raw}grid_lake_michigan.nc')\n",
    "\n",
    "### =================================================\n",
    "### 2. Calculate cumulative concentration\n",
    "### =================================================\n",
    "ds['cumulative'] = ds['Fox'] + ds['Grand'] + ds['Kalamazoo'] + ds['Manistee'] + \\\n",
    "                   ds['Manistique'] + ds['Menominee'] + ds['Milwaukee'] + ds['Muskegon'] + \\\n",
    "                   ds['PereMarquette'] + ds['Sheboygan'] + ds['StJoseph']\n",
    "\n",
    "### =================================================\n",
    "### 3. Change time from model time to something\n",
    "###    more intelligent\n",
    "### =================================================\n",
    "ds['T'] = pd.date_range(start='2007-01-01', end='2010-12-31', freq='1d')\n",
    "\n",
    "### =================================================\n",
    "### 4. Maximum summer concentration in a typical year\n",
    "### 4.1 first pick out summer months (JJA) and drop other months\n",
    "### 4.2 then group data by day-of-year and average all day-of-year\n",
    "### 4.3 finally take max across observed at each location in a typical summer\n",
    "### 4.4 squeeze just removes the singleton Z dimension. \n",
    "###     This is surface data\n",
    "### =================================================\n",
    "ds_jja = ds['cumulative'].where((ds['T.month']==6) | \n",
    "                                (ds['T.month']==7) | \n",
    "                                (ds['T.month']==8), drop=True)\\\n",
    "                                                    .groupby('T.dayofyear').mean('T')\\\n",
    "                                                    .max('dayofyear').squeeze()\n",
    "        \n",
    "### =================================================\n",
    "### 5. Save to dataset\n",
    "### =================================================\n",
    "ds_out = xr.Dataset(\n",
    "    {\n",
    "    'phos_max_JJA': (['Y', 'X'],  ds_jja.values),\n",
    "    },\n",
    "\n",
    "    coords={\n",
    "    'Y': (['Y'], ds_grid['Y']),\n",
    "    'X': (['X'], ds_grid['X']),   \n",
    "    }\n",
    "    )\n",
    "\n",
    "### =================================================\n",
    "### 5.1 Display the dataset\n",
    "### =================================================\n",
    "ds_out"
   ]
  },
  {
   "cell_type": "code",
   "execution_count": 5,
   "metadata": {},
   "outputs": [
    {
     "name": "stdout",
     "output_type": "stream",
     "text": [
      "save to netcdf\n"
     ]
    }
   ],
   "source": [
    "### =================================================\n",
    "### 6. Save to netcdf\n",
    "### =================================================\n",
    "print('save to netcdf')\n",
    "data_clean='/Users/gloege/Documents/Projects/MITgcm-Michigan-Phosphorus/data/clean/'\n",
    "ds_out.to_netcdf(f'{data_clean}phosphorus_max_JJA.nc')\n",
    "\n",
    "### =================================================\n",
    "### 6.1 Delete ds_out from memory\n",
    "### =================================================\n",
    "del ds, ds_out, ds_grid, ds_jja"
   ]
  },
  {
   "cell_type": "markdown",
   "metadata": {},
   "source": [
    "# 1. Ecosystem service data\n",
    "Three services are defined\n",
    "1.  water = municipal water withdrawals\n",
    "2. beaches = photo user days at beaches\n",
    "3. boating = linear sum of marina slips and boat launches to define a single \"boating\" metric. This is not perfect becuase marinas and boat launches cater to difference demagraphics\n",
    "\n",
    "Steps to process ES data\n",
    "1. load grid and ES data\n",
    "2. normalize each service\n",
    "3. save dataset\n",
    "4. save netcdf"
   ]
  },
  {
   "cell_type": "code",
   "execution_count": 6,
   "metadata": {},
   "outputs": [
    {
     "data": {
      "text/plain": [
       "<xarray.Dataset>\n",
       "Dimensions:          (X: 200, Y: 276)\n",
       "Coordinates:\n",
       "  * Y                (Y) float64 41.57 41.59 41.6 41.62 41.64 41.65 41.67 ...\n",
       "  * X                (X) float64 -88.09 -88.07 -88.06 -88.04 -88.02 -88.01 ...\n",
       "Data variables:\n",
       "    beaches_norm     (Y, X) float64 0.0 0.0 0.0 0.0 0.0 0.0 0.0 0.0 0.0 0.0 ...\n",
       "    water_norm       (Y, X) float64 0.0 0.0 0.0 0.0 0.0 0.0 0.0 0.0 0.0 0.0 ...\n",
       "    boating_norm     (Y, X) float64 0.0 0.0 0.0 0.0 0.0 0.0 0.0 0.0 0.0 0.0 ...\n",
       "    marina_norm      (Y, X) float64 0.0 0.0 0.0 0.0 0.0 0.0 0.0 0.0 0.0 0.0 ...\n",
       "    boatlaunch_norm  (Y, X) float64 0.0 0.0 0.0 0.0 0.0 0.0 0.0 0.0 0.0 0.0 ..."
      ]
     },
     "execution_count": 6,
     "metadata": {},
     "output_type": "execute_result"
    }
   ],
   "source": [
    "### =================================================\n",
    "### 1. Load grid\n",
    "### =================================================\n",
    "grid_dir = '/Users/gloege/Documents/Projects/MITgcm-Michigan-Phosphorus/data/raw/'\n",
    "ds_grid = xr.open_dataset(f'{grid_dir}grid_lake_michigan.nc')\n",
    "\n",
    "### =================================================\n",
    "### 1.1 Load ES shapefiles\n",
    "### =================================================\n",
    "data_dir = '/Users/gloege/Documents/Projects/MITgcm-Michigan-Phosphorus/data/shapefiles/'\n",
    "ES_shp = f'{data_dir}grid_WGS84_ES/grid_WGS84_ES/grid_WGS84_ES.shp'\n",
    "fields, polygons = xshape.parse_shapefile(ES_shp)\n",
    "\n",
    "### =================================================\n",
    "### 2. Normalize and reshape services \n",
    "###    I defined a 'normalize' function\n",
    "### =================================================\n",
    "beaches_norm    = normalize( np.flipud(np.reshape(fields['FLICKR'].values, (200,276)).T) )\n",
    "water_norm      = normalize( np.flipud(np.reshape(fields['WATWITHDWL'].values, (200,276)).T) )\n",
    "marina_norm     = normalize( np.flipud(np.reshape(fields['MARSLIPS'].values, (200,276)).T) )\n",
    "boatlaunch_norm = normalize( np.flipud(np.reshape(fields['BOATLPARK'].values, (200,276)).T) )\n",
    "boating_norm    = normalize( np.flipud(np.reshape(fields['BOATLPARK'].values + \\\n",
    "                                                  fields['MARSLIPS'].values, (200,276)).T) )\n",
    "\n",
    "### =================================================\n",
    "### 3. Save to dataset\n",
    "### =================================================\n",
    "ds_out = xr.Dataset(\n",
    "    {\n",
    "    'beaches_norm': (['Y', 'X'],  beaches_norm),\n",
    "    'water_norm': (['Y', 'X'],  water_norm),\n",
    "    'boating_norm': (['Y', 'X'],  boating_norm),\n",
    "    'marina_norm': (['Y', 'X'],  marina_norm),\n",
    "    'boatlaunch_norm': (['Y', 'X'],  boatlaunch_norm)\n",
    "    },\n",
    "\n",
    "    coords={\n",
    "    'Y': (['Y'], ds_grid['Y']),\n",
    "    'X': (['X'], ds_grid['X']),   \n",
    "    }\n",
    "    )\n",
    "\n",
    "### =================================================\n",
    "### 3.1 Display the dataset\n",
    "### =================================================\n",
    "ds_out"
   ]
  },
  {
   "cell_type": "code",
   "execution_count": 7,
   "metadata": {},
   "outputs": [
    {
     "name": "stdout",
     "output_type": "stream",
     "text": [
      "save to netcdf\n"
     ]
    }
   ],
   "source": [
    "### =================================================\n",
    "### 4. save to netcdf\n",
    "### =================================================\n",
    "print('save to netcdf')\n",
    "data_clean='/Users/gloege/Documents/Projects/MITgcm-Michigan-Phosphorus/data/clean/'\n",
    "ds_out.to_netcdf(f'{data_clean}normalized_es.nc')\n",
    "\n",
    "### =================================================\n",
    "### 4.1 Delete ds_out from memory\n",
    "### =================================================\n",
    "del ds_out, ds_grid\n",
    "del ES_shp, fields, polygons\n",
    "del beaches_norm, water_norm, marina_norm, boatlaunch_norm, boating_norm"
   ]
  },
  {
   "cell_type": "markdown",
   "metadata": {},
   "source": [
    "# 2. Calculate an average May June July August \n",
    "\n",
    "1. open all files `/Users/gloege/Documents/Projects/lakeMichigan/data/output_phos/ptr_tave.*.surf.nc` \n",
    "2. create regions (cumulative, north, east, west)\n",
    "3. change time variable from model time to YYYY-MM-DD\n",
    "4. select May, June, July, August for all years. Groupby day-of-year and average"
   ]
  },
  {
   "cell_type": "code",
   "execution_count": 8,
   "metadata": {},
   "outputs": [
    {
     "data": {
      "text/plain": [
       "<xarray.Dataset>\n",
       "Dimensions:        (X: 200, Y: 276, dayofyear: 124)\n",
       "Coordinates:\n",
       "  * X              (X) float64 -88.09 -88.07 -88.06 -88.04 -88.02 -88.01 ...\n",
       "  * Y              (Y) float64 41.57 41.59 41.6 41.62 41.64 41.65 41.67 ...\n",
       "    Z              float64 -2.5\n",
       "  * dayofyear      (dayofyear) int64 121 122 123 124 125 126 127 128 129 130 ...\n",
       "Data variables:\n",
       "    Fox            (dayofyear, Y, X) float32 dask.array<shape=(124, 276, 200), chunksize=(1, 276, 200)>\n",
       "    Grand          (dayofyear, Y, X) float32 dask.array<shape=(124, 276, 200), chunksize=(1, 276, 200)>\n",
       "    Kalamazoo      (dayofyear, Y, X) float32 dask.array<shape=(124, 276, 200), chunksize=(1, 276, 200)>\n",
       "    Manistee       (dayofyear, Y, X) float32 dask.array<shape=(124, 276, 200), chunksize=(1, 276, 200)>\n",
       "    Manistique     (dayofyear, Y, X) float32 dask.array<shape=(124, 276, 200), chunksize=(1, 276, 200)>\n",
       "    Menominee      (dayofyear, Y, X) float32 dask.array<shape=(124, 276, 200), chunksize=(1, 276, 200)>\n",
       "    Milwaukee      (dayofyear, Y, X) float32 dask.array<shape=(124, 276, 200), chunksize=(1, 276, 200)>\n",
       "    Muskegon       (dayofyear, Y, X) float32 dask.array<shape=(124, 276, 200), chunksize=(1, 276, 200)>\n",
       "    PereMarquette  (dayofyear, Y, X) float32 dask.array<shape=(124, 276, 200), chunksize=(1, 276, 200)>\n",
       "    Sheboygan      (dayofyear, Y, X) float32 dask.array<shape=(124, 276, 200), chunksize=(1, 276, 200)>\n",
       "    StJoseph       (dayofyear, Y, X) float32 dask.array<shape=(124, 276, 200), chunksize=(1, 276, 200)>\n",
       "    iter           (dayofyear) float64 dask.array<shape=(124,), chunksize=(1,)>\n",
       "    cumulative     (dayofyear, Y, X) float32 dask.array<shape=(124, 276, 200), chunksize=(1, 276, 200)>\n",
       "    north          (dayofyear, Y, X) float32 dask.array<shape=(124, 276, 200), chunksize=(1, 276, 200)>\n",
       "    east           (dayofyear, Y, X) float32 dask.array<shape=(124, 276, 200), chunksize=(1, 276, 200)>\n",
       "    west           (dayofyear, Y, X) float32 dask.array<shape=(124, 276, 200), chunksize=(1, 276, 200)>"
      ]
     },
     "execution_count": 8,
     "metadata": {},
     "output_type": "execute_result"
    }
   ],
   "source": [
    "### ===================================\n",
    "### 1. Open dataset\n",
    "### ===================================\n",
    "### the `squeeze()` command ignores the the `z` dimension, since this is just surface data\n",
    "data_dir = '/Users/gloege/Documents/Projects/MITgcm-Michigan-Phosphorus/data/raw/'\n",
    "ds = xr.open_mfdataset(f'{data_dir}ptr_tave.*.surf.nc').squeeze()\n",
    "\n",
    "### ===================================\n",
    "### 2. create regions\n",
    "### ===================================\n",
    "### Cumulative of all rivers\n",
    "ds['cumulative'] = ds['Fox'] + ds['Grand'] + ds['Kalamazoo'] + ds['Manistee'] + \\\n",
    "                   ds['Manistique'] + ds['Menominee'] + ds['Milwaukee'] + ds['Muskegon'] + \\\n",
    "                   ds['PereMarquette'] + ds['Sheboygan'] + ds['StJoseph']\n",
    "\n",
    "### North region\n",
    "ds['north'] = ds['Fox'] + ds['Menominee'] + ds['Manistique'] \n",
    "  \n",
    "### East Region\n",
    "ds['east'] =  ds['Grand'] + ds['Kalamazoo'] + ds['Manistee'] + \\\n",
    "              ds['Muskegon'] + ds['PereMarquette']  + ds['StJoseph']\n",
    "        \n",
    "### West region\n",
    "ds['west'] = ds['Milwaukee'] + ds['Sheboygan']\n",
    "\n",
    "### ===================================\n",
    "### 3. Add a sensible time varaiable\n",
    "### ===================================\n",
    "ds['T'] = pd.date_range(start='2007-01-01', end='2010-12-31', freq='1d')\n",
    "\n",
    "### ===================================\n",
    "### 4. Average May, June, July, August\n",
    "### ===================================\n",
    "ds_mjja = ds.where((ds['T.month']==5) |\n",
    "         (ds['T.month']==6) | \n",
    "         (ds['T.month']==7) | \n",
    "         (ds['T.month']==8), \n",
    "         drop = True).groupby('T.dayofyear').mean('T')\n",
    "\n",
    "### ===================================\n",
    "### 4.1. display dataset\n",
    "### ===================================\n",
    "ds_mjja"
   ]
  },
  {
   "cell_type": "code",
   "execution_count": 9,
   "metadata": {},
   "outputs": [
    {
     "name": "stdout",
     "output_type": "stream",
     "text": [
      "save to netcdf\n"
     ]
    }
   ],
   "source": [
    "### ===================================\n",
    "### 5. Save to netcdf\n",
    "### ===================================\n",
    "print('save to netcdf')\n",
    "data_clean='/Users/gloege/Documents/Projects/MITgcm-Michigan-Phosphorus/data/clean/'\n",
    "ds_mjja.to_netcdf(f'{data_clean}phosphorus_avg_MJJA.nc')\n",
    "\n",
    "### ===================================\n",
    "### 5.1 wipe memory\n",
    "### ===================================\n",
    "del ds, ds_mjja"
   ]
  },
  {
   "cell_type": "markdown",
   "metadata": {},
   "source": [
    "# 3. Calculate exceedance days for each river\n",
    "\n",
    "1. load phosphorus_avg_mjja.nc data\n",
    "2. Calculate exceedance days:\n",
    "    - At each point ask \"is the concentration >0.4?\" and create a boolean\n",
    "    - bin the data by month. Bin values correspond to the day-of-year\n",
    "    - sum across each month\n",
    "3. rename the groupby_bins to month\n",
    "4. save data to netcdf\n",
    "\n",
    "#### simple example to convince me groupy_bins().sum() is doing what I want\n",
    "`ds_test = xr.Dataset({'data' : (['X'], [1,2,3,4,5])}, coords={'X': (['X'], [6,7,8,9,10])})`\n",
    "`ds_test['data'].groupby_bins('X',[6,7,9], include_lowest=True).sum('X')`"
   ]
  },
  {
   "cell_type": "code",
   "execution_count": 10,
   "metadata": {},
   "outputs": [
    {
     "data": {
      "text/plain": [
       "<xarray.Dataset>\n",
       "Dimensions:        (X: 200, Y: 276, month: 4)\n",
       "Coordinates:\n",
       "  * month          (month) object 'may' 'june' 'july' 'august'\n",
       "  * X              (X) float64 -88.09 -88.07 -88.06 -88.04 -88.02 -88.01 ...\n",
       "  * Y              (Y) float64 41.57 41.59 41.6 41.62 41.64 41.65 41.67 ...\n",
       "    Z              float64 -2.5\n",
       "Data variables:\n",
       "    Fox            (month, Y, X) int64 0 0 0 0 0 0 0 0 0 0 0 0 0 0 0 0 0 0 0 ...\n",
       "    Grand          (month, Y, X) int64 0 0 0 0 0 0 0 0 0 0 0 0 0 0 0 0 0 0 0 ...\n",
       "    Kalamazoo      (month, Y, X) int64 0 0 0 0 0 0 0 0 0 0 0 0 0 0 0 0 0 0 0 ...\n",
       "    Manistee       (month, Y, X) int64 0 0 0 0 0 0 0 0 0 0 0 0 0 0 0 0 0 0 0 ...\n",
       "    Manistique     (month, Y, X) int64 0 0 0 0 0 0 0 0 0 0 0 0 0 0 0 0 0 0 0 ...\n",
       "    Menominee      (month, Y, X) int64 0 0 0 0 0 0 0 0 0 0 0 0 0 0 0 0 0 0 0 ...\n",
       "    Milwaukee      (month, Y, X) int64 0 0 0 0 0 0 0 0 0 0 0 0 0 0 0 0 0 0 0 ...\n",
       "    Muskegon       (month, Y, X) int64 0 0 0 0 0 0 0 0 0 0 0 0 0 0 0 0 0 0 0 ...\n",
       "    PereMarquette  (month, Y, X) int64 0 0 0 0 0 0 0 0 0 0 0 0 0 0 0 0 0 0 0 ...\n",
       "    Sheboygan      (month, Y, X) int64 0 0 0 0 0 0 0 0 0 0 0 0 0 0 0 0 0 0 0 ...\n",
       "    StJoseph       (month, Y, X) int64 0 0 0 0 0 0 0 0 0 0 0 0 0 0 0 0 0 0 0 ...\n",
       "    iter           (month) int64 31 30 31 31\n",
       "    cumulative     (month, Y, X) int64 0 0 0 0 0 0 0 0 0 0 0 0 0 0 0 0 0 0 0 ...\n",
       "    north          (month, Y, X) int64 0 0 0 0 0 0 0 0 0 0 0 0 0 0 0 0 0 0 0 ...\n",
       "    east           (month, Y, X) int64 0 0 0 0 0 0 0 0 0 0 0 0 0 0 0 0 0 0 0 ...\n",
       "    west           (month, Y, X) int64 0 0 0 0 0 0 0 0 0 0 0 0 0 0 0 0 0 0 0 ..."
      ]
     },
     "execution_count": 10,
     "metadata": {},
     "output_type": "execute_result"
    }
   ],
   "source": [
    "### ===================================\n",
    "### 1. Load average MJJA data\n",
    "### ===================================\n",
    "data_clean='/Users/gloege/Documents/Projects/MITgcm-Michigan-Phosphorus/data/clean/'\n",
    "ds_mjja = xr.open_dataset(f'{data_clean}phosphorus_avg_MJJA.nc')\n",
    "\n",
    "### ===================================\n",
    "### 2. calculate exceedance days for each month\n",
    "### ===================================\n",
    "ds_out = (ds_mjja > 0.4).groupby_bins('dayofyear',\n",
    "                                      bins = [121, 151, 181, 212, 243],\n",
    "                                      labels = ('may', 'june','july','august'),\n",
    "                                      include_lowest = True).sum('dayofyear')\n",
    "### ===================================\n",
    "### 3. Rename bin name\n",
    "### ===================================\n",
    "ds_out = ds_out.rename({'dayofyear_bins':'month'}) \n",
    "\n",
    "### ===================================\n",
    "### 3.1 Display data\n",
    "### ===================================\n",
    "ds_out"
   ]
  },
  {
   "cell_type": "code",
   "execution_count": 11,
   "metadata": {},
   "outputs": [
    {
     "name": "stdout",
     "output_type": "stream",
     "text": [
      "save to netcdf\n"
     ]
    }
   ],
   "source": [
    "### ===================================\n",
    "### 4. Save data to netcdf\n",
    "### ===================================\n",
    "print('save to netcdf')\n",
    "data_clean='/Users/gloege/Documents/Projects/MITgcm-Michigan-Phosphorus/data/clean/'\n",
    "ds_out.to_netcdf(f'{data_clean}exceedance_days_all_rivers_MJJA.nc')\n",
    "\n",
    "### ===================================\n",
    "### 4.1 Delete ds_out from memory\n",
    "### ===================================\n",
    "del ds_out, ds_mjja"
   ]
  },
  {
   "cell_type": "markdown",
   "metadata": {},
   "source": [
    "# 4. Calculate cumulative stress days (CSD)\n",
    "\n",
    "0. csd_rm() is a helper function to calculate csd value for any given river and month\n",
    "1. calculate CSD for each river and month and store in dataset\n",
    "2. save data to netcdf"
   ]
  },
  {
   "cell_type": "code",
   "execution_count": 12,
   "metadata": {
    "collapsed": true
   },
   "outputs": [],
   "source": [
    "def csd_rm(river='cumulative', month='june'):\n",
    "    '''\n",
    "    csd_rm(river, month):\n",
    "    this function calculates CSD for a given river and month\n",
    "    You need to have a netcdf of ES and ED for this to work\n",
    "    It's intended purpose is to make it easy to put all CSD data into\n",
    "    an xarray dataset\n",
    "    '''\n",
    "    ### ===================================\n",
    "    ### Clean data directory\n",
    "    ### ===================================\n",
    "    data_clean='/Users/gloege/Documents/Projects/MITgcm-Michigan-Phosphorus/data/clean/'\n",
    "    ds_es = xr.open_dataset(f'{data_clean}normalized_es.nc')\n",
    "\n",
    "    ### ===================================\n",
    "    ### 1. Load ED data\n",
    "    ### ===================================\n",
    "    ds_ed = xr.open_dataset(f'{data_clean}exceedance_days_all_rivers_MJJA.nc')\n",
    "    ds_ed = ds_ed.where(ds_ed['month']== month , drop=True).squeeze()\n",
    "\n",
    "    ### ===================================\n",
    "    ### 2. calculate CSD\n",
    "    ### ===================================\n",
    "    csd = calculate_csd(ds_ed[river].values, ds_es['beaches_norm'].values) + \\\n",
    "            calculate_csd(ds_ed[river].values, ds_es['water_norm'].values) + \\\n",
    "            calculate_csd(ds_ed[river].values, ds_es['boating_norm'].values)\n",
    "    \n",
    "    return csd"
   ]
  },
  {
   "cell_type": "code",
   "execution_count": 13,
   "metadata": {},
   "outputs": [
    {
     "data": {
      "text/plain": [
       "<xarray.Dataset>\n",
       "Dimensions:         (months: 3)\n",
       "Coordinates:\n",
       "  * months          (months) <U6 'june' 'july' 'august'\n",
       "Data variables:\n",
       "    Milwaukee       (months) float64 105.2 102.8 69.35\n",
       "    Sheboygan       (months) float64 95.11 27.37 0.8099\n",
       "    Fox             (months) float64 394.4 616.5 644.6\n",
       "    Menominee       (months) float64 78.7 71.18 44.95\n",
       "    Manistique      (months) float64 7.109 5.53 3.16\n",
       "    Manistee        (months) float64 25.13 12.41 5.173\n",
       "    Pere_Marquette  (months) float64 46.93 3.911 0.0\n",
       "    Muskegon        (months) float64 3.595 0.0 0.2568\n",
       "    Grand           (months) float64 331.4 323.6 222.6\n",
       "    Kalamazoo       (months) float64 274.6 273.8 221.8\n",
       "    St_Joseph       (months) float64 263.8 243.0 210.3\n",
       "    north           (months) float64 509.0 674.0 668.9\n",
       "    east            (months) float64 1.345e+03 1.014e+03 873.9\n",
       "    west            (months) float64 207.5 136.0 76.23\n",
       "    cumulative      (months) float64 2.068e+03 1.837e+03 1.644e+03"
      ]
     },
     "execution_count": 13,
     "metadata": {},
     "output_type": "execute_result"
    }
   ],
   "source": [
    "### ===================================\n",
    "### 1. Calculate CSD for June, July, August\n",
    "###    for each river using csd_rm()\n",
    "###    helper function\n",
    "### ===================================\n",
    "ds_out = xr.Dataset(\n",
    "    {\n",
    "    'Milwaukee': (['months'],  [csd_rm(river='Milwaukee', month='june'), \n",
    "                                csd_rm(river='Milwaukee', month='july'), \n",
    "                                csd_rm(river='Milwaukee', month='august')]),\n",
    "    'Sheboygan': (['months'],  [csd_rm(river='Sheboygan', month='june'), \n",
    "                                csd_rm(river='Sheboygan', month='july'), \n",
    "                                csd_rm(river='Sheboygan', month='august')]),\n",
    "    'Fox': (['months'],        [csd_rm(river='Fox', month='june'), \n",
    "                                csd_rm(river='Fox', month='july'), \n",
    "                                csd_rm(river='Fox', month='august')]),\n",
    "    'Menominee': (['months'],  [csd_rm(river='Menominee', month='june'), \n",
    "                                csd_rm(river='Menominee', month='july'), \n",
    "                                csd_rm(river='Menominee', month='august')]),\n",
    "    'Manistique': (['months'],  [csd_rm(river='Manistique', month='june'), \n",
    "                                csd_rm(river='Manistique', month='july'), \n",
    "                                csd_rm(river='Manistique', month='august')]),\n",
    "    'Manistee': (['months'],   [csd_rm(river='Manistee', month='june'), \n",
    "                                csd_rm(river='Manistee', month='july'), \n",
    "                                csd_rm(river='Manistee', month='august')]),\n",
    "    'Pere_Marquette': (['months'],  [csd_rm(river='PereMarquette', month='june'), \n",
    "                                csd_rm(river='PereMarquette', month='july'), \n",
    "                                csd_rm(river='PereMarquette', month='august')]),\n",
    "    'Muskegon': (['months'],   [csd_rm(river='Muskegon', month='june'), \n",
    "                                csd_rm(river='Muskegon', month='july'), \n",
    "                                csd_rm(river='Muskegon', month='august')]),\n",
    "    'Grand': (['months'],     [csd_rm(river='Grand', month='june'), \n",
    "                                csd_rm(river='Grand', month='july'), \n",
    "                                csd_rm(river='Grand', month='august')]),\n",
    "    'Kalamazoo': (['months'],  [csd_rm(river='Kalamazoo', month='june'), \n",
    "                                csd_rm(river='Kalamazoo', month='july'), \n",
    "                                csd_rm(river='Kalamazoo', month='august')]),\n",
    "    'St_Joseph': (['months'],  [csd_rm(river='StJoseph', month='june'), \n",
    "                                csd_rm(river='StJoseph', month='july'), \n",
    "                                csd_rm(river='StJoseph', month='august')]),\n",
    "    'north': (['months'],      [csd_rm(river='north', month='june'), \n",
    "                                csd_rm(river='north', month='july'), \n",
    "                                csd_rm(river='north', month='august')]),\n",
    "    'east': (['months'],       [csd_rm(river='east', month='june'), \n",
    "                                csd_rm(river='east', month='july'), \n",
    "                                csd_rm(river='east', month='august')]),\n",
    "    'west': (['months'],      [csd_rm(river='west', month='june'), \n",
    "                                csd_rm(river='west', month='july'), \n",
    "                                csd_rm(river='west', month='august')]),\n",
    "    'cumulative': (['months'],[csd_rm(river='cumulative', month='june'), \n",
    "                                csd_rm(river='cumulative', month='july'), \n",
    "                                csd_rm(river='cumulative', month='august')]),\n",
    "    },\n",
    "\n",
    "    coords={\n",
    "    'months': (['months'], ['june', 'july', 'august'])\n",
    "    }\n",
    "    )\n",
    "\n",
    "### ===================================\n",
    "### 1.1 Display data\n",
    "### ===================================\n",
    "ds_out"
   ]
  },
  {
   "cell_type": "code",
   "execution_count": 14,
   "metadata": {},
   "outputs": [
    {
     "name": "stdout",
     "output_type": "stream",
     "text": [
      "save to netcdf\n"
     ]
    }
   ],
   "source": [
    "### ===================================\n",
    "### 2. Save data to netcdf\n",
    "### ===================================\n",
    "print('save to netcdf')\n",
    "data_clean='/Users/gloege/Documents/Projects/MITgcm-Michigan-Phosphorus/data/clean/'\n",
    "ds_out.to_netcdf(f'{data_clean}cumulative_stress_days_all_rivers_JJA.nc')\n",
    "\n",
    "### ===================================\n",
    "### 2. Delete ds_out from memory\n",
    "### ===================================\n",
    "del ds_out"
   ]
  },
  {
   "cell_type": "markdown",
   "metadata": {},
   "source": [
    "# 4.1 calculate exceedance days (ED) shifted to service sites\n",
    "1. load data\n",
    "2. shift ED to ES sites for each month and store in dataset\n",
    "3. save to netcdf"
   ]
  },
  {
   "cell_type": "code",
   "execution_count": 15,
   "metadata": {
    "collapsed": true
   },
   "outputs": [],
   "source": [
    "def shift_rm(river='cumulative'):\n",
    "    '''\n",
    "    csd_rm(river, month):\n",
    "    this function calculates CSD for a given river and month\n",
    "    You need to have a netcdf of ES and ED for this to work\n",
    "    It's intended purpose is to make it easy to put all CSD data into\n",
    "    an xarray dataset\n",
    "    '''\n",
    "    ### ===================================\n",
    "    ### Clean data directory\n",
    "    ### ===================================\n",
    "    data_clean='/Users/gloege/Documents/Projects/MITgcm-Michigan-Phosphorus/data/clean/'\n",
    "    \n",
    "    ### ===================================\n",
    "    ### create instance of ecosystem service class\n",
    "    ### ===================================\n",
    "    es = ecosystem_services()\n",
    "\n",
    "    ### ===================================\n",
    "    ### Load ES data\n",
    "    ### ===================================\n",
    "    ds_es = xr.open_dataset(f'{data_clean}normalized_es.nc')\n",
    "\n",
    "    ### ===================================\n",
    "    ### Load ED data\n",
    "    ### ===================================\n",
    "    ds_ed = xr.open_dataset(f'{data_clean}exceedance_days_all_rivers_MJJA.nc')\n",
    "\n",
    "    ### ===================================\n",
    "    ### sum the services to create a map of service sites\n",
    "    ### The values do not matter. \n",
    "    ### I just need to know where service sites are\n",
    "    ### ===================================\n",
    "    service_locations = ds_es['beaches_norm']+ds_es['boating_norm']+ds_es['water_norm']\n",
    "\n",
    "    ### ===================================\n",
    "    ### Shift ED to the service sites for each month\n",
    "    ### This uses a function in the es class\n",
    "    ### ===================================\n",
    "    june=es.shift_to_service(service_locations.values, \n",
    "                                   ds_ed[river].where(ds_ed['month']=='june', \n",
    "                                                      drop=True).squeeze())\n",
    "\n",
    "    july=es.shift_to_service(service_locations.values, \n",
    "                                   ds_ed[river].where(ds_ed['month']=='july', \n",
    "                                                      drop=True).squeeze())\n",
    "\n",
    "    august=es.shift_to_service(service_locations.values, \n",
    "                                   ds_ed[river].where(ds_ed['month']=='august', \n",
    "                                                      drop=True).squeeze())\n",
    "    \n",
    "    ### ===================================\n",
    "    ### Stack all the months so the data has\n",
    "    ### an output dimension like [month, X, Y]\n",
    "    ### ===================================\n",
    "    return np.stack((june, july, august))"
   ]
  },
  {
   "cell_type": "code",
   "execution_count": 16,
   "metadata": {},
   "outputs": [
    {
     "data": {
      "text/plain": [
       "<xarray.Dataset>\n",
       "Dimensions:         (X: 200, Y: 276, months: 3)\n",
       "Coordinates:\n",
       "  * months          (months) <U6 'june' 'july' 'august'\n",
       "  * Y               (Y) float64 41.57 41.59 41.6 41.62 41.64 41.65 41.67 ...\n",
       "  * X               (X) float64 -88.09 -88.07 -88.06 -88.04 -88.02 -88.01 ...\n",
       "Data variables:\n",
       "    Milwaukee       (months, Y, X) float64 0.0 0.0 0.0 0.0 0.0 0.0 0.0 0.0 ...\n",
       "    Sheboygan       (months, Y, X) float64 0.0 0.0 0.0 0.0 0.0 0.0 0.0 0.0 ...\n",
       "    Fox             (months, Y, X) float64 0.0 0.0 0.0 0.0 0.0 0.0 0.0 0.0 ...\n",
       "    Menominee       (months, Y, X) float64 0.0 0.0 0.0 0.0 0.0 0.0 0.0 0.0 ...\n",
       "    Manistique      (months, Y, X) float64 0.0 0.0 0.0 0.0 0.0 0.0 0.0 0.0 ...\n",
       "    Manistee        (months, Y, X) float64 0.0 0.0 0.0 0.0 0.0 0.0 0.0 0.0 ...\n",
       "    Pere_Marquette  (months, Y, X) float64 0.0 0.0 0.0 0.0 0.0 0.0 0.0 0.0 ...\n",
       "    Muskegon        (months, Y, X) float64 0.0 0.0 0.0 0.0 0.0 0.0 0.0 0.0 ...\n",
       "    Grand           (months, Y, X) float64 0.0 0.0 0.0 0.0 0.0 0.0 0.0 0.0 ...\n",
       "    Kalamazoo       (months, Y, X) float64 0.0 0.0 0.0 0.0 0.0 0.0 0.0 0.0 ...\n",
       "    St_Joseph       (months, Y, X) float64 0.0 0.0 0.0 0.0 0.0 0.0 0.0 0.0 ...\n",
       "    north           (months, Y, X) float64 0.0 0.0 0.0 0.0 0.0 0.0 0.0 0.0 ...\n",
       "    east            (months, Y, X) float64 0.0 0.0 0.0 0.0 0.0 0.0 0.0 0.0 ...\n",
       "    west            (months, Y, X) float64 0.0 0.0 0.0 0.0 0.0 0.0 0.0 0.0 ...\n",
       "    cumulative      (months, Y, X) float64 0.0 0.0 0.0 0.0 0.0 0.0 0.0 0.0 ..."
      ]
     },
     "execution_count": 16,
     "metadata": {},
     "output_type": "execute_result"
    }
   ],
   "source": [
    "### ===================================\n",
    "### 1. Load grid values\n",
    "### ===================================\n",
    "data_raw='/Users/gloege/Documents/Projects/MITgcm-Michigan-Phosphorus/data/raw/'\n",
    "ds_grid = xr.open_dataset(f'{data_raw}grid_lake_michigan.nc')\n",
    "\n",
    "### ===================================\n",
    "### 2. for each month, shift each river \n",
    "###    to service sites\n",
    "### ===================================\n",
    "ds_out = xr.Dataset(\n",
    "    {\n",
    "    'Milwaukee': (['months', 'Y', 'X'],  shift_rm(river='Milwaukee')),\n",
    "    'Sheboygan': (['months', 'Y', 'X'],  shift_rm(river='Sheboygan')),\n",
    "    'Fox': (['months', 'Y', 'X'],  shift_rm(river='Fox')),\n",
    "    'Menominee': (['months',  'Y', 'X'], shift_rm(river='Menominee')),\n",
    "    'Manistique': (['months',  'Y', 'X'], shift_rm(river='Manistique')),\n",
    "    'Manistee': (['months',  'Y', 'X'], shift_rm(river='Manistee')),\n",
    "    'Pere_Marquette': (['months',  'Y', 'X'], shift_rm(river='PereMarquette')),\n",
    "    'Muskegon': (['months',  'Y', 'X'], shift_rm(river='Muskegon')),\n",
    "    'Grand': (['months',  'Y', 'X'], shift_rm(river='Grand')),\n",
    "    'Kalamazoo': (['months',  'Y', 'X'], shift_rm(river='Kalamazoo')),\n",
    "    'St_Joseph': (['months',  'Y', 'X'], shift_rm(river='StJoseph')),\n",
    "    'north': (['months',  'Y', 'X'], shift_rm(river='north')),\n",
    "    'east': (['months',  'Y', 'X'], shift_rm(river='east')),\n",
    "    'west': (['months',  'Y', 'X'], shift_rm(river='west')),\n",
    "    'cumulative': (['months',  'Y', 'X'], shift_rm(river='cumulative')),\n",
    "    },\n",
    "\n",
    "    coords={\n",
    "    'months': (['months'], ['june', 'july', 'august']),\n",
    "    'Y': (['Y'], ds_grid['Y'].values),\n",
    "    'X': (['X'], ds_grid['X'].values)\n",
    "    }\n",
    "    )\n",
    "\n",
    "### ===================================\n",
    "### 2.1 Display data\n",
    "### ===================================\n",
    "ds_out"
   ]
  },
  {
   "cell_type": "code",
   "execution_count": 17,
   "metadata": {},
   "outputs": [
    {
     "name": "stdout",
     "output_type": "stream",
     "text": [
      "save to netcdf\n"
     ]
    }
   ],
   "source": [
    "### ===================================\n",
    "### 3. Save to netcdf\n",
    "### ===================================\n",
    "print('save to netcdf')\n",
    "data_clean='/Users/gloege/Documents/Projects/MITgcm-Michigan-Phosphorus/data/clean/'\n",
    "ds_out.to_netcdf(f'{data_clean}ED_at_ES_all_rivers_JJA.nc')\n",
    "\n",
    "### ===================================\n",
    "### 3.1 Delete ds_out from memory\n",
    "### ===================================\n",
    "del ds_out, ds_grid"
   ]
  },
  {
   "cell_type": "markdown",
   "metadata": {},
   "source": [
    "# 5. Calculate average concentration within the \"footprint\"\n",
    "\n",
    "This averages the concentration within each month where concentration greater than 0.4"
   ]
  },
  {
   "cell_type": "code",
   "execution_count": 18,
   "metadata": {},
   "outputs": [
    {
     "data": {
      "text/plain": [
       "<xarray.Dataset>\n",
       "Dimensions:        (month: 4)\n",
       "Coordinates:\n",
       "  * month          (month) object 'may' 'june' 'july' 'august'\n",
       "    Z              float64 -2.5\n",
       "Data variables:\n",
       "    Fox            (month) float64 3.233 2.956 2.83 3.112\n",
       "    Grand          (month) float64 0.7297 0.9559 0.7237 0.7182\n",
       "    Kalamazoo      (month) float64 1.029 1.311 0.9851 1.03\n",
       "    Manistee       (month) float64 0.546 0.6588 0.4402 0.4443\n",
       "    Manistique     (month) float64 0.6859 0.7372 0.653 0.4578\n",
       "    Menominee      (month) float64 0.6319 0.6813 0.6373 0.5888\n",
       "    Milwaukee      (month) float64 0.7324 0.9127 0.9463 0.6838\n",
       "    Muskegon       (month) float64 0.5702 0.6497 0.4441 0.4405\n",
       "    PereMarquette  (month) float64 0.574 0.6575 0.4809 nan\n",
       "    Sheboygan      (month) float64 0.5068 0.7888 0.739 0.5118\n",
       "    StJoseph       (month) float64 0.6647 0.7629 0.6137 0.7953\n",
       "    iter           (month) float64 6.117e+05 6.24e+05 6.372e+05 6.506e+05\n",
       "    cumulative     (month) float64 1.519 1.478 1.946 2.44\n",
       "    north          (month) float64 2.88 2.693 2.689 2.962\n",
       "    east           (month) float64 0.8161 0.6819 0.709 0.7142\n",
       "    west           (month) float64 0.6453 0.7986 0.8659 0.6491"
      ]
     },
     "execution_count": 18,
     "metadata": {},
     "output_type": "execute_result"
    }
   ],
   "source": [
    "### ===================================\n",
    "### 1. Load average MJJA data\n",
    "### ===================================\n",
    "data_clean='/Users/gloege/Documents/Projects/MITgcm-Michigan-Phosphorus/data/clean/'\n",
    "ds_mjja = xr.open_dataset(f'{data_clean}phosphorus_avg_MJJA.nc')\n",
    "\n",
    "\n",
    "### ===================================\n",
    "### 2. find where concentration exceedes\n",
    "###    the threshold concentration 0.4\n",
    "###    and average the concentration within each month\n",
    "### ===================================\n",
    "ds_out = ds_mjja.where(ds_mjja > 0.4).groupby_bins('dayofyear',\n",
    "                                      bins = [121, 151, 181, 212, 243],\n",
    "                                      labels = ('may', 'june','july','august'),\n",
    "                                      include_lowest = True).mean()\n",
    "### ===================================\n",
    "### 3. Rename bin name\n",
    "### ===================================\n",
    "ds_out = ds_out.rename({'dayofyear_bins':'month'}) \n",
    "\n",
    "### ===================================\n",
    "### 3.1 Display dataset\n",
    "### ===================================\n",
    "ds_out"
   ]
  },
  {
   "cell_type": "code",
   "execution_count": 19,
   "metadata": {},
   "outputs": [
    {
     "name": "stdout",
     "output_type": "stream",
     "text": [
      "save to netcdf\n"
     ]
    }
   ],
   "source": [
    "### ===================================\n",
    "### 4. Save to netcdf\n",
    "### ===================================\n",
    "print('save to netcdf')\n",
    "data_clean='/Users/gloege/Documents/Projects/MITgcm-Michigan-Phosphorus/data/clean/'\n",
    "ds_out.to_netcdf(f'{data_clean}avg_TP_within_plume_all_rivers_MJJA.nc')\n",
    "\n",
    "### ===================================\n",
    "### 4.1 Delete ds_out from memory\n",
    "### ===================================\n",
    "del ds_out, ds_mjja"
   ]
  },
  {
   "cell_type": "markdown",
   "metadata": {},
   "source": [
    "# 6. calculate a transect on 43N\n",
    "1. load raw 3D data\n",
    "2. average across latitude band centered on 43N\n",
    "3. store output in dataset\n",
    "4. save to netcdf"
   ]
  },
  {
   "cell_type": "code",
   "execution_count": 20,
   "metadata": {},
   "outputs": [
    {
     "data": {
      "text/plain": [
       "<xarray.Dataset>\n",
       "Dimensions:      (X: 200, Z: 29)\n",
       "Coordinates:\n",
       "  * X            (X) float64 -88.09 -88.07 -88.06 -88.04 -88.02 -88.01 ...\n",
       "  * Z            (Z) float64 -2.5 -7.5 -12.5 -17.5 -22.5 -27.5 -32.5 -37.5 ...\n",
       "Data variables:\n",
       "    temp_may     (Z, X) float32 0.0 0.0 0.0 0.0 0.0 0.0 0.0 0.0 0.0 0.0 0.0 ...\n",
       "    temp_august  (Z, X) float32 0.0 0.0 0.0 0.0 0.0 0.0 0.0 0.0 0.0 0.0 0.0 ...\n",
       "    phos_may     (Z, X) float32 0.0 0.0 0.0 0.0 0.0 0.0 0.0 0.0 0.0 0.0 0.0 ...\n",
       "    phos_august  (Z, X) float32 0.0 0.0 0.0 0.0 0.0 0.0 0.0 0.0 0.0 0.0 0.0 ..."
      ]
     },
     "execution_count": 20,
     "metadata": {},
     "output_type": "execute_result"
    }
   ],
   "source": [
    "### ==============================================================\n",
    "### 1. Load raw 3D data\n",
    "### ==============================================================\n",
    "dir_raw='/Users/gloege/Documents/Projects/MITgcm-Michigan-Phosphorus/data/raw/'\n",
    "ds_phos = xr.open_mfdataset(f'{dir_raw}output_3D/*pload*')\n",
    "ds_phos['T'] = pd.date_range(start='2007-01-01', end='2010-12-31', freq='1d')\n",
    "ds_temp = xr.open_mfdataset(f'{dir_raw}output_3D/*Ttave*')\n",
    "ds_temp['T'] = pd.date_range(start='2007-01-01', end='2010-12-31', freq='1d')\n",
    "\n",
    "### ==============================================================\n",
    "### 2. Calculate transect\n",
    "###.    average across latitude band centered on 43N\n",
    "### ==============================================================\n",
    "T_may = ds_temp.where((ds_temp['Y']>42.8) & (ds_temp['Y']<43.2), drop=True).\\\n",
    "                mean('Y').\\\n",
    "                where(ds_temp['T.month']==5, drop=True).mean('T')\n",
    "        \n",
    "T_august = ds_temp.where((ds_temp['Y']>42.8) & (ds_temp['Y']<43.2), drop=True).\\\n",
    "                mean('Y').\\\n",
    "                where(ds_temp['T.month']==8, drop=True).mean('T')\n",
    "        \n",
    "phos_may = ds_phos.where((ds_phos['Y']>42.8) & (ds_phos['Y']<43.2), drop=True).\\\n",
    "                mean('Y').\\\n",
    "                where(ds_phos['T.month']==5, drop=True).mean('T')\n",
    "        \n",
    "phos_august = ds_phos.where((ds_phos['Y']>42.8) & (ds_phos['Y']<43.2), drop=True).\\\n",
    "                mean('Y').\\\n",
    "                where(ds_phos['T.month']==8, drop=True).mean('T')\n",
    "\n",
    "### ==============================================================\n",
    "### 3. Save to dataset\n",
    "### ==============================================================\n",
    "ds_out = xr.Dataset(\n",
    "    {\n",
    "    'temp_may': (['Z', 'X'],  T_may['Ttave'].values),\n",
    "    'temp_august': (['Z', 'X'],  T_august['Ttave'].values),\n",
    "    'phos_may': (['Z', 'X'],  phos_may['pload'].values),\n",
    "    'phos_august': (['Z', 'X'],  phos_august['pload'].values),\n",
    "    },\n",
    "\n",
    "    coords={\n",
    "    'X': (['X'], ds_temp['X'].values),\n",
    "    'Z': (['Z'], ds_temp['Z'].values),   \n",
    "    }\n",
    "    )\n",
    "\n",
    "### ===================================\n",
    "### 3.1 Display data\n",
    "### ===================================\n",
    "ds_out"
   ]
  },
  {
   "cell_type": "code",
   "execution_count": 21,
   "metadata": {
    "collapsed": true
   },
   "outputs": [],
   "source": [
    "### ==============================================================\n",
    "### 4. save to netcdf\n",
    "### ==============================================================\n",
    "dir_clean='/Users/gloege/Documents/Projects/MITgcm-Michigan-Phosphorus/data/clean/'\n",
    "ds_out.to_netcdf(f'{dir_clean}transect_43N.nc')\n",
    "\n",
    "### ==============================================================\n",
    "### 4.1 delete ds_out\n",
    "### ==============================================================\n",
    "del ds_out, ds_phos, ds_temp,\n",
    "del T_may, T_august, phos_may, phos_august"
   ]
  },
  {
   "cell_type": "markdown",
   "metadata": {},
   "source": [
    "# 7. Calculate monthly phosphorus concentration for each year\n",
    "this is used to generate `supplemental_figure_2`\n",
    "\n",
    "1. load data\n",
    "2. create cumulative concentration by adding all the rivers\n",
    "3. create a sensible time vector that is not model time\n",
    "4. average concentration for each month and each year\n",
    "5. stack all the years\n",
    "6. store in dataset\n",
    "7. store in netcdf"
   ]
  },
  {
   "cell_type": "code",
   "execution_count": 25,
   "metadata": {},
   "outputs": [
    {
     "data": {
      "text/plain": [
       "<xarray.Dataset>\n",
       "Dimensions:       (X: 200, Y: 276, months: 4, year: 4)\n",
       "Coordinates:\n",
       "  * year          (year) int64 2007 2008 2009 2010\n",
       "  * months        (months) <U6 'may' 'june' 'july' 'august'\n",
       "  * Y             (Y) float64 41.57 41.59 41.6 41.62 41.64 41.65 41.67 41.69 ...\n",
       "  * X             (X) float64 -88.09 -88.07 -88.06 -88.04 -88.02 -88.01 ...\n",
       "Data variables:\n",
       "    phos_monthly  (year, months, Y, X) float32 0.0 0.0 0.0 0.0 0.0 0.0 0.0 ..."
      ]
     },
     "execution_count": 25,
     "metadata": {},
     "output_type": "execute_result"
    }
   ],
   "source": [
    "### ==============================================================\n",
    "### 1. Load data\n",
    "### ==============================================================\n",
    "dir_raw = '/Users/gloege/Documents/Projects/MITgcm-Michigan-Phosphorus/data/raw/'\n",
    "ds = xr.open_mfdataset(f'{dir_raw}ptr_tave.*.surf.nc').squeeze()\n",
    "ds_grid = xr.open_dataset(f'{dir_raw}grid_lake_michigan.nc')\n",
    "\n",
    "### ==============================================================\n",
    "### 2. Create cumulative concentration\n",
    "### ==============================================================\n",
    "ds['cumulative'] = ds['Fox'] + ds['Grand'] + ds['Kalamazoo'] + ds['Manistee'] + \\\n",
    "                   ds['Manistique'] + ds['Menominee'] + ds['Milwaukee'] + ds['Muskegon'] + \\\n",
    "                   ds['PereMarquette'] + ds['Sheboygan'] + ds['StJoseph']\n",
    "\n",
    "### ==============================================================\n",
    "### 3. Add a sensible time varaiable\n",
    "### ==============================================================\n",
    "ds['T'] = pd.date_range(start='2007-01-01', end='2010-12-31', freq='1d')\n",
    "\n",
    "### ==============================================================\n",
    "### 4. calculate mean phosphorus concentration for each month\n",
    "###    and for each year\n",
    "### ==============================================================\n",
    "phos_2007 = ds['cumulative'].where((ds['T.year']==2007),\n",
    "                       drop=True).groupby('T.month').mean('T').values\n",
    "phos_2008 = ds['cumulative'].where((ds['T.year']==2008),\n",
    "                       drop=True).groupby('T.month').mean('T').values\n",
    "phos_2009 = ds['cumulative'].where((ds['T.year']==2009),\n",
    "                       drop=True).groupby('T.month').mean('T').values\n",
    "phos_2010 = ds['cumulative'].where((ds['T.year']==2010),\n",
    "                       drop=True).groupby('T.month').mean('T').values\n",
    "\n",
    "### ==============================================================\n",
    "### 5. Stack all the years\n",
    "###    This creates an output with shape [12, X, Y]\n",
    "### ==============================================================\n",
    "tmp = np.stack((phos_2007, phos_2008, phos_2009, phos_2010))\n",
    "\n",
    "### ==============================================================\n",
    "### 6. Store in dataset\n",
    "### ==============================================================\n",
    "ds_out = xr.Dataset(\n",
    "    {\n",
    "    'phos_monthly': (['year', 'months', 'Y', 'X'],  tmp[:,4:8 :, :])\n",
    "    },\n",
    "\n",
    "    coords={\n",
    "     'year': (['year'], [2007,2008,2009,2010]),\n",
    "     'months': (['months'], ['may', 'june', 'july','august']),\n",
    "     'Y': (['Y'], ds_grid['Y'].values),\n",
    "     'X': (['X'], ds_grid['X'].values)\n",
    "    }\n",
    "    )\n",
    "\n",
    "### ===================================\n",
    "### 6.1 Display data\n",
    "### ===================================\n",
    "ds_out"
   ]
  },
  {
   "cell_type": "code",
   "execution_count": 26,
   "metadata": {},
   "outputs": [],
   "source": [
    "### ==============================================================\n",
    "### 7. Save to netcdf\n",
    "### ==============================================================\n",
    "dir_clean='/Users/gloege/Documents/Projects/MITgcm-Michigan-Phosphorus/data/clean/'\n",
    "ds_out.to_netcdf(f'{dir_clean}phosphorus_monthly_avg_MJJA_2007-2010.nc')\n",
    "\n",
    "### ==============================================================\n",
    "### 7.1 memory management\n",
    "### ==============================================================\n",
    "del ds, ds_grid, ds_out, tmp\n",
    "del phos_2007, phos_2008, phos_2009, phos_2010"
   ]
  },
  {
   "cell_type": "markdown",
   "metadata": {},
   "source": [
    "# 8. Calculate P load"
   ]
  },
  {
   "cell_type": "code",
   "execution_count": 27,
   "metadata": {},
   "outputs": [
    {
     "name": "stdout",
     "output_type": "stream",
     "text": [
      "river\n",
      "Milwaukee          77.25\n",
      "Sheboygan          76.25\n",
      "Fox               409.00\n",
      "Menominee          60.75\n",
      "Manistique         23.25\n",
      "Manistee           37.50\n",
      "Pere_Marquette     26.00\n",
      "Muskegon           58.00\n",
      "Grand             526.25\n",
      "Kalamazoo         188.00\n",
      "St_Joseph         421.50\n",
      "dtype: float64\n"
     ]
    }
   ],
   "source": [
    "### ===================================\n",
    "### Get Loading\n",
    "### ===================================\n",
    "ploadDir = '/Users/gloege/Documents/Projects/MITgcm-Michigan-Phosphorus/data/raw/'\n",
    "df_wrtds = pd.read_csv(f'{ploadDir}wrtds_pload_2007_2010_MTyr.csv', index_col='river')\n",
    "df_wrtds = df_wrtds.rename({'Pere Marquette':'Pere_Marquette', 'St Joseph':'St_Joseph'})\n",
    "load = df_wrtds.mean(axis=1)\n",
    "print(load)"
   ]
  }
 ],
 "metadata": {
  "kernelspec": {
   "display_name": "cartopy",
   "language": "python",
   "name": "cartopy"
  },
  "language_info": {
   "codemirror_mode": {
    "name": "ipython",
    "version": 3
   },
   "file_extension": ".py",
   "mimetype": "text/x-python",
   "name": "python",
   "nbconvert_exporter": "python",
   "pygments_lexer": "ipython3",
   "version": "3.6.6"
  }
 },
 "nbformat": 4,
 "nbformat_minor": 2
}
