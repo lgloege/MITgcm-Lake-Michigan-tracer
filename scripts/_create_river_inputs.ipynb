{
 "cells": [
  {
   "cell_type": "markdown",
   "metadata": {},
   "source": [
    "# Prepare Phosphorous loading data for input into model\n",
    "\n",
    "Matt Diebel created input files using WRTDS method\n",
    "\n",
    "- Q  - cubic meters per second (cms)\n",
    "- TP - mg/L\n",
    "- flux - (Q*TP*1000), units are mg/s (note mg/m3 = ug/l)\n",
    "- You then divide by volume of grid cell at river mouth to get flux = [mg/m3/s]\n",
    "\n",
    "L. Gloege - September 16, 2017\n",
    "\n"
   ]
  },
  {
   "cell_type": "code",
   "execution_count": null,
   "metadata": {
    "collapsed": true
   },
   "outputs": [],
   "source": [
    "import numpy as np\n",
    "import pandas as pd\n",
    "import xarray as xr\n",
    "import struct\n",
    "import sys"
   ]
  },
  {
   "cell_type": "code",
   "execution_count": null,
   "metadata": {
    "collapsed": true
   },
   "outputs": [],
   "source": [
    "def export_binary(filename, field, dtype='float32'):\n",
    "    \"\"\"\n",
    "    !Export binary files that can be imported into the MITgcm.\n",
    "    The files are big endian, and the datatype can either be\n",
    "    'float64' (= double precision), or 'float32' (=single precision).\n",
    "\n",
    "    Might not work for very large datasets.\n",
    "    https://edoddridge.bitbucket.io/MITgcm_py/functions_8py_source.html\n",
    "    \"\"\"\n",
    "    data = np.array(field, dtype=dtype)  # with defined precision, either float32 or float64\n",
    "    if sys.byteorder == 'little':\n",
    "        data.byteswap(True)\n",
    "    fid = open(filename, \"wb\")\n",
    "    data.tofile(fid)  # this does not work for very large data sets\n",
    "    # fid.write(bytes(data)) # this is another option to write to binary\n",
    "    fid.close()"
   ]
  },
  {
   "cell_type": "code",
   "execution_count": null,
   "metadata": {
    "collapsed": true
   },
   "outputs": [],
   "source": [
    "def plot_input():\n",
    "    \"\"\" plot location of river to check position \"\"\"\n",
    "    import matplotlib.pyplot as plt\n",
    "    mask = (depth == 0)\n",
    "    depthMask = np.ma.array(depth, mask=mask)\n",
    "    plt.pcolor(lon, lat, depthMask)\n",
    "    plt.plot(lon[lonInd], lat[latInd], 'r.')\n",
    "    plt.plot(lon[lonInd + 1], lat[latInd], 'r.')\n",
    "    plt.plot(lon[lonInd + 1], lat[latInd + 1], 'r.')\n",
    "    plt.plot(lon[lonInd], lat[latInd + 1], 'r.')\n",
    "    plt.show()"
   ]
  },
  {
   "cell_type": "markdown",
   "metadata": {},
   "source": [
    "# Create inputs"
   ]
  },
  {
   "cell_type": "code",
   "execution_count": 1,
   "metadata": {},
   "outputs": [
    {
     "name": "stdout",
     "output_type": "stream",
     "text": [
      "Type year you want to process : 2007\n"
     ]
    }
   ],
   "source": [
    "# Range of dates for input, select year you want\n",
    "year = eval(input(\"Type year you want to process : \"))"
   ]
  },
  {
   "cell_type": "code",
   "execution_count": null,
   "metadata": {
    "collapsed": true
   },
   "outputs": [],
   "source": [
    "### Date range\n",
    "dateRange = ['01/01/' + str(year), '01/01/' + str(year + 1)]\n",
    "\n",
    "### Conversion from liters to cubic meters\n",
    "litersInCubicMeter = 1000\n",
    "\n",
    "### Store fileName, lat of mouth and lon of mouth\n",
    "### the coordinates are the river mouth\n",
    "### these were determined by looking on Google Earth or\n",
    "### taken from Wikipedia (I am sorry)\n",
    "stations = {'Fox': ['Fox_053210.csv', 44.54, -88.005],\n",
    "            'Manistee': ['Manistee_04126010.csv', 44.25, -86.34453],\n",
    "            'Muskegon': ['Muskegon_04122030.csv', 43.227089, -86.341987],\n",
    "            'St Joseph': ['St_Joseph_04102080.csv', 42.114167, -86.488333],\n",
    "            'Grand': ['Grand_04119400.csv', 43.05835, -86.25088],\n",
    "            'Manistique': ['Manistique_04057004.csv', 45.948, -86.246],\n",
    "            'Pere Marquette': ['Pere_Marquette_04122500.csv', 43.951667, -86.460278],\n",
    "            'Menominee': ['Menominee_383088.csv', 45.0947, -87.59121],\n",
    "            'Kalamazoo': ['Kalamazoo_04108660.csv', 42.67669, -86.21531],\n",
    "            'Milwaukee': ['Milwaukee_413640.csv', 43.025556, -87.894831],\n",
    "            'Sheboygan': ['Sheboygan_603095.csv', 43.748976, -87.702149]}\n",
    "\n",
    "### Lists the river names, its just the keys to stations\n",
    "rivers = list(stations.keys())\n",
    "\n",
    "# Loop over rivers\n",
    "for RV in range(0, len(rivers)):\n",
    "    riverName = rivers[RV]\n",
    "    latMouth = stations[riverName][1]\n",
    "    lonMouth = stations[riverName][2]\n",
    "\n",
    "    ### Read Q and TP data from csv\n",
    "    fname = \"/Users/gloege/Documents/Projects/MITgcm-Michigan-Phosphorus/data/raw/wrtds/\" + stations[riverName][0]\n",
    "    print('Processing : ' + fname)\n",
    "    df = pd.read_csv(fname)\n",
    "    df['Date'] = pd.to_datetime(df['Date'])\n",
    "\n",
    "    ### Select data (# Q=m3/s, TP=mg/L, flux = mg/s)\n",
    "    mask = (pd.to_datetime(df['Date']) >= dateRange[0]) & (pd.to_datetime(df['Date']) <= dateRange[1])\n",
    "    Q = df['Q'][mask].values\n",
    "    TP = df['TP'][mask].values\n",
    "    flux = Q * (TP * litersInCubicMeter)\n",
    "\n",
    "    ### Since do not have january 1 2011 value, just use  dec 31 2010\n",
    "    if (year == 2010):\n",
    "        flux = np.append(flux, [flux[-1]])\n",
    "\n",
    "    ### Read grid file\n",
    "    gridDir = '/Users/gloege/Documents/Projects/MITgcm-Michigan-Phosphorus/data/raw/'\n",
    "    gridFile = gridDir + 'grid_lake_michigan.nc'\n",
    "    ds = xr.open_dataset(gridFile)\n",
    "    depth = ds['Depth'].values\n",
    "    lon = ds['X'].values\n",
    "    lat = ds['Y'].values\n",
    "    drF = ds['drF'].values  # r cell face separation\n",
    "    rA = ds['rA'].values  # r face area at cell center\n",
    "    dlon = np.diff(lon[0:2]) / 2\n",
    "    dlat = np.diff(lat[0:2]) / 2\n",
    "    volCell = rA * drF[0]  # volume of surface cell cubic meters\n",
    "\n",
    "    ### Find river mouth in grid (the comma unpacks the tuple)\n",
    "    lonInd, = np.where((lon < lonMouth + dlon) & (lon > lonMouth - dlon))\n",
    "    latInd, = np.where((lat < latMouth + dlat) & (lat > latMouth - dlat))\n",
    "\n",
    "    ### the river mouth location was fine tuned to best match reality\n",
    "    if (riverName == 'Fox'):\n",
    "        lonInd = lonInd + 1\n",
    "        latInd = latInd + 1\n",
    "    if (riverName == 'Manistee'):\n",
    "        latInd = latInd + 1\n",
    "    if (riverName == 'Muskegon'):\n",
    "        lonInd = lonInd - 4\n",
    "    if (riverName == 'Grand'):\n",
    "        lonInd = lonInd - 2\n",
    "    if (riverName == 'Manistique'):\n",
    "        latInd = latInd - 2\n",
    "    if (riverName == 'Pere Marquette'):\n",
    "        lonInd = lonInd - 3\n",
    "    if (riverName == 'Kalamazoo'):\n",
    "        lonInd = lonInd - 2\n",
    "    if (riverName == 'Menominee'):\n",
    "        lonInd = lonInd - 1\n",
    "    if (riverName == 'Sheboygan'):\n",
    "        latInd = latInd - 1\n",
    "\n",
    "    ### add singleton dimension to flux\n",
    "    flux = np.expand_dims(flux, axis=1) / volCell[latInd, lonInd]\n",
    "\n",
    "    ### Initialize tracer grid, zero matrix [366 1 276 200]\n",
    "    ### need an extra day (hence the 366) so the model can interpolate\n",
    "    ### between Dec 31 and Jan 1 of next year\n",
    "    nt, nz = flux.shape\n",
    "    ny, = lat.shape\n",
    "    nx, = lon.shape\n",
    "    surfaceForcing = np.zeros((nt, nz, ny, nx), dtype='f')\n",
    "\n",
    "    ### add flux\n",
    "    surfaceForcing[:, 0, latInd, lonInd] = flux.reshape(-1, 1)\n",
    "\n",
    "    ### Sanity check and useful to help fine river mouth location\n",
    "    print('latInd : {0} lonInd : {1}'.format(latInd, lonInd))\n",
    "    print('surfaceForcing shape: {0}'.format(surfaceForcing.shape))\n",
    "    print('flux shape: {0}'.format(flux.shape))\n",
    "    print('sum : {0}'.format(surfaceForcing.sum()))\n",
    "\n",
    "    ### Write to binary file\n",
    "    fileName = '/Users/gloege/Documents/Projects/MITgcm-Michigan-Phosphorus/model/inputs/' +\\\n",
    "                riverName.replace(\" \", \"\") + '_mgs_' + str(year) + '.bin'\n",
    "    export_binary(fileName, surfaceForcing)"
   ]
  }
 ],
 "metadata": {
  "kernelspec": {
   "display_name": "cartopy",
   "language": "python",
   "name": "cartopy"
  },
  "language_info": {
   "codemirror_mode": {
    "name": "ipython",
    "version": 3
   },
   "file_extension": ".py",
   "mimetype": "text/x-python",
   "name": "python",
   "nbconvert_exporter": "python",
   "pygments_lexer": "ipython3",
   "version": "3.6.6"
  }
 },
 "nbformat": 4,
 "nbformat_minor": 2
}
