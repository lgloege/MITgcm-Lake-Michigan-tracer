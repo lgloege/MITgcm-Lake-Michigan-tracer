{
 "cells": [
  {
   "cell_type": "markdown",
   "metadata": {},
   "source": [
    "# Create input from WRTDS\n",
    "\n",
    "Reads WRTDS discharge. Normalized the discharge and create input file to run model\n",
    "and creates binary river forcing file\n",
    "\n",
    "Q : m3/s\n",
    "\n",
    "TP : mg/L\n",
    "\n",
    "    L. Gloege (2017-11-02)"
   ]
  },
  {
   "cell_type": "code",
   "execution_count": 1,
   "metadata": {},
   "outputs": [],
   "source": [
    "%matplotlib inline\n",
    "import numpy as np\n",
    "import pandas as pd\n",
    "import xarray as xr\n",
    "import matplotlib.pyplot as plt\n",
    "import struct\n",
    "import sys"
   ]
  },
  {
   "cell_type": "code",
   "execution_count": 2,
   "metadata": {
    "collapsed": true
   },
   "outputs": [],
   "source": [
    "def plot_input():\n",
    "    \"\"\" plot location of river to check position \"\"\"\n",
    "    import matplotlib.pyplot as plt\n",
    "    mask = (depth == 0)\n",
    "    depthMask = np.ma.array(depth, mask=mask)\n",
    "    plt.pcolor(lon, lat, depthMask)\n",
    "    plt.plot(lon[lonInd], lat[latInd], 'r.')\n",
    "    plt.plot(lon[lonInd + 1], lat[latInd], 'r.')\n",
    "    plt.plot(lon[lonInd + 1], lat[latInd + 1], 'r.')\n",
    "    plt.plot(lon[lonInd], lat[latInd + 1], 'r.')\n",
    "    plt.show()"
   ]
  },
  {
   "cell_type": "markdown",
   "metadata": {},
   "source": [
    "### Load export_binary function"
   ]
  },
  {
   "cell_type": "code",
   "execution_count": 3,
   "metadata": {
    "collapsed": true
   },
   "outputs": [],
   "source": [
    "%run -i /Users/gloege/Documents/Projects/MITgcm-Michigan-Phosphorus/scripts/export_binary.py"
   ]
  },
  {
   "cell_type": "markdown",
   "metadata": {},
   "source": [
    "### Load get_model_grid function"
   ]
  },
  {
   "cell_type": "code",
   "execution_count": 4,
   "metadata": {
    "collapsed": true
   },
   "outputs": [],
   "source": [
    "%run -i /Users/gloege/Documents/Projects/MITgcm-Michigan-Phosphorus/scripts/get_model_grid.py"
   ]
  },
  {
   "cell_type": "markdown",
   "metadata": {},
   "source": [
    "### Get grid and station information"
   ]
  },
  {
   "cell_type": "code",
   "execution_count": 5,
   "metadata": {
    "collapsed": true
   },
   "outputs": [],
   "source": [
    "# Get model grid\n",
    "grid = get_model_grid()\n",
    "\n",
    "# Store fileName, lat of mouth and lon of mouth\n",
    "wrtds_dir = '/Users/gloege/Documents/Projects/MITgcm-Michigan-Phosphorus/data/raw/wrtds/' \n",
    "stations = {'053210': [f'{wrtds_dir}Fox_053210.csv', 44.54, -88.005, 'Fox'],\n",
    "            '04126010': [f'{wrtds_dir}Manistee_04126010.csv', 44.25, -86.34453, 'Manistee'],\n",
    "            '04122030': [f'{wrtds_dir}Muskegon_04122030.csv', 43.227089, -86.341987, 'Muskegon'],\n",
    "            '04102080': [f'{wrtds_dir}St_Joseph_04102080.csv', 42.114167, -86.488333, 'St Joseph'],\n",
    "            '04119400': [f'{wrtds_dir}Grand_04119400.csv', 43.05835, -86.25088, 'Grand'],\n",
    "            '04057004': [f'{wrtds_dir}Manistique_04057004.csv', 45.948, -86.246, 'Manistique'],\n",
    "            '04122500': [f'{wrtds_dir}Pere_Marquette_04122500.csv', 43.951667, -86.460278, 'Pere Marquette'],\n",
    "            '383088': [f'{wrtds_dir}Menominee_383088.csv', 45.0947, -87.59121, 'Menominee'],\n",
    "            '04108660': [f'{wrtds_dir}Kalamazoo_04108660.csv', 42.67669, -86.21531, 'Kalamazoo'],\n",
    "            '413640': [f'{wrtds_dir}Milwaukee_413640.csv', 43.025556, -87.894831, 'Milwaukee'],\n",
    "            '603095': [f'{wrtds_dir}Sheboygan_603095.csv', 43.748976, -87.702149, 'Sheboygan']}"
   ]
  },
  {
   "cell_type": "markdown",
   "metadata": {},
   "source": [
    "### Define which river and year you want to run"
   ]
  },
  {
   "cell_type": "code",
   "execution_count": 45,
   "metadata": {
    "collapsed": true
   },
   "outputs": [],
   "source": [
    "# Read data\n",
    "siteID = '053210'\n",
    "riverName = stations[siteID][3]\n",
    "year = 2007\n",
    "df = pd.read_csv(stations[siteID][0], index_col='Date')\n",
    "\n",
    "# Convert index to dates\n",
    "df.index = df.index.astype('datetime64[ns]')\n",
    "\n",
    "# Select dates\n",
    "mask = (df.index>= str(year) + '-01-01') & (df.index<=str(year+1) + '-01-01')\n",
    "df = df[mask]\n",
    "\n",
    "# Integrate under curve and normalize\n",
    "dx = 86400\n",
    "Q_ann = np.trapz(df['Q'].values, dx=dx)\n",
    "df['Q_norm'] = df['Q'] / Q_ann\n",
    "\n",
    "# Sanity check, this should be 1\n",
    "test = np.trapz(df['Q_norm'].values, dx=dx) \n",
    "\n",
    "# Reorder columns\n",
    "df = df[['Q', 'Q_norm', 'TP']]\n",
    "\n",
    "\n",
    "# River\n",
    "latMouth = stations[siteID][1]\n",
    "lonMouth = stations[siteID][2]\n",
    "\n",
    "# Find river mouth in grid (the comma unpacks the tuple)\n",
    "lonInd, = np.where((grid['lon'] < lonMouth + grid['dlon']) & \\\n",
    "                   (grid['lon'] > lonMouth - grid['dlon']))\n",
    "latInd, = np.where((grid['lat'] < latMouth + grid['dlat']) & \\\n",
    "                   (grid['lat'] > latMouth - grid['dlat']))\n",
    "\n",
    "# Fine tune the river mouth location\n",
    "if (riverName == 'Fox'):\n",
    "    lonInd = lonInd + 1\n",
    "    latInd = latInd + 1\n",
    "if (riverName == 'Manistee'):\n",
    "    latInd = latInd + 1\n",
    "if (riverName == 'Muskegon'):\n",
    "    lonInd = lonInd - 4\n",
    "if (riverName == 'Grand'):\n",
    "    lonInd = lonInd - 2\n",
    "if (riverName == 'Manistique'):\n",
    "    latInd = latInd - 2\n",
    "if (riverName == 'Pere Marquette'):\n",
    "    lonInd = lonInd - 3\n",
    "if (riverName == 'Kalamazoo'):\n",
    "    lonInd = lonInd - 2\n",
    "if (riverName == 'Menominee'):\n",
    "    lonInd = lonInd - 1\n",
    "if (riverName == 'Sheboygan'):\n",
    "    latInd = latInd - 1"
   ]
  },
  {
   "cell_type": "markdown",
   "metadata": {},
   "source": [
    "### Calculate flux"
   ]
  },
  {
   "cell_type": "code",
   "execution_count": 46,
   "metadata": {},
   "outputs": [
    {
     "name": "stdout",
     "output_type": "stream",
     "text": [
      "Sheboygan  :  603095\n",
      "\n",
      "latInd : [130] lonInd : [23]\n",
      "surfaceForcing shape: (366, 1, 276, 200)\n",
      "flux shape: (366, 1)\n",
      "sum : 4.584115028381348\n",
      "This should always be 1 :  1.0\n"
     ]
    }
   ],
   "source": [
    "# add singleton dimension to flux\n",
    "#flux = np.expand_dims(flux, axis=1) / volCell[latInd, lonInd]\n",
    "Q = np.expand_dims(df['Q_norm'].values, axis=1)\n",
    "flux = Q * (grid['volLake'] / grid['volCell'][latInd, lonInd]) # arbs/s\n",
    "\n",
    "# Initialize tracer grid, zero matrix [366 1 276 200]\n",
    "nt, nz = flux.shape\n",
    "ny, = grid['lat'].shape\n",
    "nx, = grid['lon'].shape\n",
    "surfaceForcing = np.zeros((nt, nz, ny, nx), dtype='f')\n",
    "\n",
    "# add flux (THIS IS WHAT YOU WANT TO BE BINARY)\n",
    "surfaceForcing[:, 0, latInd, lonInd] = flux.reshape(-1,1)    \n",
    "\n",
    "print(riverName, ' : ', siteID)\n",
    "print('')\n",
    "print('latInd : {0} lonInd : {1}'.format(latInd,lonInd))\n",
    "print('surfaceForcing shape: {0}'.format(surfaceForcing.shape))\n",
    "print('flux shape: {0}'.format(flux.shape))\n",
    "print('sum : {0}'.format(surfaceForcing.sum()))\n",
    "print('This should always be 1 : ', test)\n"
   ]
  },
  {
   "cell_type": "markdown",
   "metadata": {},
   "source": [
    "### Save binary"
   ]
  },
  {
   "cell_type": "code",
   "execution_count": 47,
   "metadata": {},
   "outputs": [
    {
     "name": "stdout",
     "output_type": "stream",
     "text": [
      "output file: /Users/gloege/Documents/Projects/lakeMichigan/model/inputs/tracer/river_603095_2007.bin\n"
     ]
    }
   ],
   "source": [
    "# Write to binary file\n",
    "#fileName = '/Users/gloege/Documents/Projects/MITgcm-Michigan-Phosphorus/model/inputs/river_' + siteID + '_'+ str(year) + '.bin'\n",
    "dir_model = '/Users/gloege/Documents/Projects/MITgcm-Michigan-Phosphorus/model/inputs/'\n",
    "fileName = f'{dir_model}inputs/river_{siteID}_{year}.bin'\n",
    "export_binary(fileName, surfaceForcing)\n",
    "\n",
    "# Display output file\n",
    "print('output file: ' + fileName)"
   ]
  },
  {
   "cell_type": "code",
   "execution_count": 8,
   "metadata": {},
   "outputs": [
    {
     "name": "stdout",
     "output_type": "stream",
     "text": [
      "053210\n",
      "04126010\n",
      "04122030\n",
      "04102080\n",
      "04119400\n",
      "04057004\n",
      "04122500\n",
      "383088\n",
      "04108660\n",
      "413640\n",
      "603095\n"
     ]
    }
   ],
   "source": [
    "for siteID in stations.keys():\n",
    "    print(siteID)"
   ]
  },
  {
   "cell_type": "code",
   "execution_count": null,
   "metadata": {
    "collapsed": true
   },
   "outputs": [],
   "source": []
  }
 ],
 "metadata": {
  "kernelspec": {
   "display_name": "cartopy",
   "language": "python",
   "name": "cartopy"
  },
  "language_info": {
   "codemirror_mode": {
    "name": "ipython",
    "version": 3
   },
   "file_extension": ".py",
   "mimetype": "text/x-python",
   "name": "python",
   "nbconvert_exporter": "python",
   "pygments_lexer": "ipython3",
   "version": "3.6.6"
  }
 },
 "nbformat": 4,
 "nbformat_minor": 2
}
