{
 "cells": [
  {
   "cell_type": "markdown",
   "metadata": {},
   "source": [
    "# Supplemental Figure 4\n",
    "\n",
    "## Caption\n",
    "Total number of service locations within the phosphorous plume (Blue) and the cumulative number of exceedance days at all service locations within the phosphorous plume (Red) calculated separately for each river and in each month A) June B) July, and C) August. "
   ]
  },
  {
   "cell_type": "code",
   "execution_count": 1,
   "metadata": {},
   "outputs": [
    {
     "name": "stderr",
     "output_type": "stream",
     "text": [
      "/Users/gloege/anaconda3/envs/cartopy/lib/python3.6/site-packages/cmocean/tools.py:76: MatplotlibDeprecationWarning: The is_string_like function was deprecated in version 2.1.\n",
      "  if not mpl.cbook.is_string_like(rgbin[0]):\n"
     ]
    }
   ],
   "source": [
    "%matplotlib inline\n",
    "from matplotlib import rcParams\n",
    "rcParams['font.family'] = 'sans-serif'\n",
    "rcParams['font.sans-serif'] = ['Arial']\n",
    "rcParams['pdf.fonttype'] = 42\n",
    "rcParams['ps.fonttype'] = 42\n",
    "\n",
    "import numpy as np\n",
    "import xarray as xr\n",
    "import pandas as pd\n",
    "import cmocean\n",
    "import matplotlib as mpl\n",
    "import matplotlib.pyplot as plt\n",
    "import cartopy.crs as ccrs\n",
    "import cartopy.feature as cfeature\n",
    "from cartopy.mpl.geoaxes import GeoAxes\n",
    "from matplotlib.ticker import AutoMinorLocator\n",
    "from matplotlib.offsetbox import AnchoredText\n",
    "from mpl_toolkits.axes_grid1 import make_axes_locatable\n",
    "from matplotlib.colors import from_levels_and_colors\n",
    "from mpl_toolkits.axes_grid1 import AxesGrid\n",
    "from matplotlib.lines import Line2D\n",
    "import os"
   ]
  },
  {
   "cell_type": "markdown",
   "metadata": {},
   "source": [
    "# Load data"
   ]
  },
  {
   "cell_type": "code",
   "execution_count": 2,
   "metadata": {
    "collapsed": true
   },
   "outputs": [],
   "source": [
    "### Define directories\n",
    "data_clean='/Users/gloege/Documents/Projects/MITgcm-Michigan-Phosphorus/data/clean/'"
   ]
  },
  {
   "cell_type": "code",
   "execution_count": 3,
   "metadata": {
    "collapsed": true
   },
   "outputs": [],
   "source": [
    "ds = xr.open_dataset(f'{data_clean}ED_at_ES_all_rivers_JJA.nc')"
   ]
  },
  {
   "cell_type": "markdown",
   "metadata": {},
   "source": [
    "# Generate Figure"
   ]
  },
  {
   "cell_type": "code",
   "execution_count": 4,
   "metadata": {},
   "outputs": [
    {
     "data": {
      "text/plain": [
       "<matplotlib.offsetbox.AnchoredText at 0x1a1965bc18>"
      ]
     },
     "execution_count": 4,
     "metadata": {},
     "output_type": "execute_result"
    },
    {
     "data": {
      "image/png": "[encoded data removed]",
      "text/plain": [
       "<Figure size 792x612 with 9 Axes>"
      ]
     },
     "metadata": {},
     "output_type": "display_data"
    }
   ],
   "source": [
    "### ==============================================================\n",
    "### Define the mother grid\n",
    "### ==============================================================\n",
    "fig = plt.figure(figsize=(11, 8.5))\n",
    "grid = AxesGrid(fig, 111, \n",
    "                share_all=False,\n",
    "                nrows_ncols = (1, 3),\n",
    "                axes_pad = 0.35,\n",
    "                label_mode = 'L')  \n",
    "\n",
    "### ==============================================================\n",
    "### second x axis with a twin y axis\n",
    "### ==============================================================\n",
    "ax2 = [grid[0].axes.twiny(), grid[1].axes.twiny(), grid[2].axes.twiny()]\n",
    "\n",
    "### ==============================================================\n",
    "### Names of rivers for plotting\n",
    "### ==============================================================\n",
    "rivers = ['Fox','Menominee','Manistique', 'north',\n",
    "          'Manistee','Pere_Marquette','Muskegon','Grand' ,'Kalamazoo', 'St_Joseph', 'east',\n",
    "           'Milwaukee','Sheboygan','west' ] \n",
    "\n",
    "### ==============================================================\n",
    "### River and month labels\n",
    "### ==============================================================\n",
    "rivers_labels = ['Fox','Menominee','Manistique', 'North cumulative',\n",
    "                 'Manistee','Pere Marquette','Muskegon','Grand' ,'Kalamazoo', 'St. Joseph', 'East cumulative',\n",
    "                'Milwaukee','Sheboygan','West cumulative' ] \n",
    "\n",
    "monthLabel = ['June', 'July', 'August']\n",
    "\n",
    "### ==============================================================\n",
    "### position of label on y axis\n",
    "### ==============================================================\n",
    "pos = [0, 1, 2, 3, 4.5, 5.5, 6.5, 7.5, 8.5, 9.5, 10.5, 12, 13, 14]\n",
    "\n",
    "### ==============================================================\n",
    "### width of each bar\n",
    "### ==============================================================\n",
    "width = 0.25  \n",
    "\n",
    "### ==============================================================\n",
    "### Define label colors\n",
    "### ==============================================================\n",
    "N = list(map(lambda x: x/255, [51, 31, 136]))\n",
    "SE = list(map(lambda x: x/255, [153, 153, 51]))\n",
    "SW = list(map(lambda x: x/255, [136, 34, 85]))\n",
    "\n",
    "# Plot the points \n",
    "for month_num, month in enumerate(['june', 'july', 'august']):\n",
    "    for riv_num, riv in zip(pos, rivers):\n",
    "        \n",
    "        ### ==============================================================\n",
    "        ### Define number sites and total exceedance days\n",
    "        ### ==============================================================\n",
    "        num_sites = (ds[riv].where(ds['months']==month, drop=True).squeeze()>0).sum()\n",
    "        ed_total = ds[riv].where(ds['months']==month, drop=True).squeeze().sum()\n",
    "        \n",
    "        ### ==============================================================\n",
    "        ### Plot total exceedance days on Grid\n",
    "        ### ==============================================================\n",
    "        xval = riv_num-(width/2)\n",
    "        grid[month_num].barh(xval, ed_total, width,\n",
    "           edgecolor=None,\n",
    "           align='center', \n",
    "           color=[220/255,20/255,60/255], \n",
    "           label='ed')\n",
    "\n",
    "        ### ==============================================================\n",
    "        ### Plot num sites on ax2\n",
    "        ### ==============================================================\n",
    "        xval = riv_num+width-(width/2)\n",
    "        ax2[month_num].barh(xval, num_sites, width,\n",
    "               edgecolor=None,\n",
    "               align='center', \n",
    "               color=[0/255,0/255,205/255], \n",
    "               label='sites')\n",
    "        \n",
    "    ### ==============================================================\n",
    "    ### Exceedance days x axis\n",
    "    ### ==============================================================\n",
    "    grid[month_num].xaxis.label.set_color([220/255,20/255,60/255])\n",
    "    grid[month_num].tick_params(axis='x', colors=[220/255,20/255,60/255])\n",
    "\n",
    "    if month_num==1:\n",
    "        grid[month_num].set_xlabel('Total exceedance days at service sites [days]', \n",
    "                               fontsize=12)\n",
    "        \n",
    "    grid[month_num].set_xlim(0, 3000)\n",
    "    grid[month_num].set_xticks(np.arange(0, 3500, 500))\n",
    "    grid[month_num].xaxis.set_minor_locator(AutoMinorLocator(2))\n",
    "    grid[month_num].tick_params(axis='x', \n",
    "                                which='both', \n",
    "                                direction='in', \n",
    "                                width=1, \n",
    "                                color='k', \n",
    "                                pad=5, \n",
    "                                labelsize=12)\n",
    "\n",
    "    ### ==============================================================\n",
    "    ### Exceedance days y axis\n",
    "    ### ==============================================================\n",
    "    grid[month_num].set_yticks(pos)\n",
    "    grid[month_num].set_yticklabels(rivers_labels, \n",
    "                                    fontsize=12, \n",
    "                                    fontweight='bold',\n",
    "                                    verticalalignment='baseline')\n",
    "    grid[month_num].tick_params(axis='y', \n",
    "                                which='both', \n",
    "                                direction='in', \n",
    "                                width=0, \n",
    "                                color='k', \n",
    "                                pad=5, \n",
    "                                labelsize=12)\n",
    "\n",
    "    ### ==============================================================\n",
    "    ### Number of sites x axis\n",
    "    ### ==============================================================\n",
    "    ax2[month_num].xaxis.label.set_color([0/255,0/255,205/255])\n",
    "    ax2[month_num].tick_params(axis='x', colors=[0/255,0/255,205/255])\n",
    "    ax2[month_num].xaxis.tick_top()\n",
    "    ax2[month_num].xaxis.set_label_position(\"top\")\n",
    "    \n",
    "    if month_num==1:\n",
    "        ax2[month_num].set_xlabel('Number of service sites impacted [#]', \n",
    "                              fontsize=12)\n",
    "        \n",
    "    ax2[month_num].set_xlim(0, 120)\n",
    "    ax2[month_num].set_xticks(np.arange(0, 130, 20))\n",
    "    ax2[month_num].xaxis.set_minor_locator(AutoMinorLocator(2))\n",
    "    ax2[month_num].tick_params(axis='x', \n",
    "                               which='both', \n",
    "                               direction='in', \n",
    "                               width=1, \n",
    "                               color='k', \n",
    "                               pad=5, \n",
    "                               labelsize=12)   \n",
    " \n",
    "    ### ==============================================================\n",
    "    ### Color of labels\n",
    "    ### ==============================================================\n",
    "    [t.set_color(i) for (i,t) in\n",
    "         zip([N, N, N, N, SE, SE, SE, SE, SE, SE, SE, SW, SW, SW],\n",
    "             grid[month_num].yaxis.get_ticklabels())]\n",
    "        \n",
    "    ### ==============================================================\n",
    "    ### Set y-limit and add Grid Lines\n",
    "    ### ==============================================================\n",
    "    grid[month_num].set_ylim(-(width+width/2), 14+width+width/2)\n",
    "    grid[month_num].grid(axis='x', b=True, which='major', color=[0.8, 0.8, 0.8], linestyle='-')\n",
    "    \n",
    "    ### ==============================================================\n",
    "    ### Flip so bars correspond to labels\n",
    "    ### ==============================================================\n",
    "    grid[month_num].invert_yaxis() \n",
    "    \n",
    "### ==============================================================\n",
    "### Make axes golden rectangles\n",
    "### ==============================================================\n",
    "for ax in grid:    \n",
    "    x0,x1 = ax.get_xlim()\n",
    "    y0,y1 = ax.get_ylim()\n",
    "    ax.set_aspect(abs(x1-x0)/abs(y1-y0)*1.618)\n",
    "    ax.get_position().bounds\n",
    "\n",
    "### ==============================================================\n",
    "### Subplot labels\n",
    "### ==============================================================\n",
    "label_a = AnchoredText(\"a\", loc=4, prop=dict(size=14), frameon=False, pad=0.5, borderpad=0)\n",
    "label_b = AnchoredText(\"b\", loc=4, prop=dict(size=14), frameon=False, pad=0.5, borderpad=0)\n",
    "label_c = AnchoredText(\"c\", loc=4, prop=dict(size=14), frameon=False, pad=0.5, borderpad=0)\n",
    "grid[0].add_artist(label_a)\n",
    "grid[1].add_artist(label_b)\n",
    "grid[2].add_artist(label_c)"
   ]
  },
  {
   "cell_type": "code",
   "execution_count": null,
   "metadata": {
    "collapsed": true
   },
   "outputs": [],
   "source": []
  }
 ],
 "metadata": {
  "kernelspec": {
   "display_name": "cartopy",
   "language": "python",
   "name": "cartopy"
  },
  "language_info": {
   "codemirror_mode": {
    "name": "ipython",
    "version": 3
   },
   "file_extension": ".py",
   "mimetype": "text/x-python",
   "name": "python",
   "nbconvert_exporter": "python",
   "pygments_lexer": "ipython3",
   "version": "3.6.6"
  }
 },
 "nbformat": 4,
 "nbformat_minor": 2
}
