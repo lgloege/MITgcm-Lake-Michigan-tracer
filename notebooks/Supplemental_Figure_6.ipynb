{
 "cells": [
  {
   "cell_type": "markdown",
   "metadata": {},
   "source": [
    "# Supplementary Figure 6\n",
    "Modeled total phosphorus compared to bi-weekly in-situ observations. Surface observations are from the Outer Harbor sampling survey part of the Milwaukee Metropolitan Sewerage District (MMSD) monitoring program (data available at http://www.waterbase.glwi.uwm.edu/mmsd/ ). Data is collected during non-ice conditions near the Jones Island Wastewater Treatment Plant. "
   ]
  },
  {
   "cell_type": "markdown",
   "metadata": {},
   "source": [
    "### Outer Harbor sampling survey"
   ]
  },
  {
   "cell_type": "markdown",
   "metadata": {},
   "source": [
    "![title](http://www.waterbase.glwi.uwm.edu/mmsd/maps/outer_harbor.jpg)"
   ]
  },
  {
   "cell_type": "code",
   "execution_count": 1,
   "metadata": {},
   "outputs": [],
   "source": [
    "from matplotlib import rcParams\n",
    "rcParams['font.family'] = 'sans-serif'\n",
    "rcParams['font.sans-serif'] = ['Arial']\n",
    "rcParams['pdf.fonttype'] = 42\n",
    "rcParams['ps.fonttype'] = 42\n",
    "import xarray as xr\n",
    "import pandas as pd\n",
    "import numpy as np\n",
    "import matplotlib.pyplot as plt\n",
    "import glob\n",
    "\n",
    "from mpl_toolkits.axes_grid1 import AxesGrid\n",
    "from matplotlib.offsetbox import AnchoredText\n",
    "from matplotlib.ticker import AutoMinorLocator"
   ]
  },
  {
   "cell_type": "code",
   "execution_count": 2,
   "metadata": {},
   "outputs": [],
   "source": [
    "def dms_to_dd(vec):\n",
    "    return vec[0] + float(vec[1])/60 + float(vec[2])/3600"
   ]
  },
  {
   "cell_type": "code",
   "execution_count": 3,
   "metadata": {},
   "outputs": [
    {
     "name": "stdout",
     "output_type": "stream",
     "text": [
      "=====================================\n",
      "DIRECTORIES\n",
      "=====================================\n",
      ">> {dir_raw}\n",
      "/local/data/artemis/workspace/gloege/MITgcm-Michigan-Phosphorus/data/raw\n",
      "\n",
      ">> {dir_clean}\n",
      "/local/data/artemis/workspace/gloege/MITgcm-Michigan-Phosphorus/data/clean\n",
      "\n",
      ">> {dir_figs}\n",
      "/local/data/artemis/workspace/gloege/MITgcm-Michigan-Phosphorus/results/figures\n"
     ]
    }
   ],
   "source": [
    "%run _load_directories.ipynb"
   ]
  },
  {
   "cell_type": "markdown",
   "metadata": {},
   "source": [
    "# Process MMSD\n",
    "MMSD TP data is in units of mg/L. These are converted to ug/L by multiplying by 1000. \n",
    "\n",
    "latitude and longitude from each site can be found here http://www.waterbase.glwi.uwm.edu/mmsd/"
   ]
  },
  {
   "cell_type": "code",
   "execution_count": 5,
   "metadata": {},
   "outputs": [],
   "source": [
    "survey='OH'"
   ]
  },
  {
   "cell_type": "code",
   "execution_count": 6,
   "metadata": {},
   "outputs": [],
   "source": [
    "### =========================\n",
    "### Load MMSD and put into dataframe\n",
    "### =========================\n",
    "allFiles = glob.glob(f'{dir_raw}/mmsd/{survey}*.csv')\n",
    "frame = pd.DataFrame()\n",
    "list_ = []\n",
    "\n",
    "## Loop over and append all the SURVEY files\n",
    "for file_ in allFiles:\n",
    "    df = pd.read_csv(file_,index_col=None, header=0)\n",
    "    list_.append(df)\n",
    "    frame = pd.concat(list_)\n",
    "        \n",
    "## convert time to datetime\n",
    "frame['Collection Date'] = pd.to_datetime(frame['Collection Date'])\n",
    "\n",
    "\n",
    "### =========================\n",
    "### If elif statement to get \n",
    "### stations and lat/lon\n",
    "### =========================\n",
    "\n",
    "### OUTER HARBOR\n",
    "if survey=='OH':\n",
    "    stations = ['OH-01','OH-02','OH-03','OH-04','OH-05','OH-06','OH-07',\n",
    "                'OH-08','OH-09','OH-10','OH-11','OH-12','OH-13','OH-14','OH-15']\n",
    "\n",
    "    #stations = ['OH-03','OH-04','OH-05','OH-06','OH-07',\n",
    "    #            'OH-08','OH-09','OH-10','OH-11','OH-12','OH-13','OH-14']\n",
    "    \n",
    "    stations = ['OH-03','OH-04','OH-05','OH-06','OH-07','OH-08','OH-09','OH-11']\n",
    "\n",
    "    \n",
    "    lat_lon = {'OH-01': [dms_to_dd([43, 1, 30]), dms_to_dd([87, 53, 47])],\n",
    "               'OH-02': [dms_to_dd([43, 1, 28]), dms_to_dd([87, 53, 36])],\n",
    "               'OH-03': [dms_to_dd([43, 1, 34]), dms_to_dd([87, 53, 29])],\n",
    "               'OH-04': [dms_to_dd([43, 2, 16]), dms_to_dd([87, 53, 24])],\n",
    "               'OH-05': [dms_to_dd([43, 2, 43]), dms_to_dd([87, 52, 52])],\n",
    "               'OH-06': [dms_to_dd([43, 2, 12]), dms_to_dd([87, 52, 51])],\n",
    "               'OH-07': [dms_to_dd([43, 1, 34]), dms_to_dd([87, 52, 57])],\n",
    "               'OH-08': [dms_to_dd([43, 1, 1]),  dms_to_dd([87, 52, 43])],\n",
    "               'OH-09': [dms_to_dd([43, 0, 33]), dms_to_dd([87, 52, 36])],\n",
    "               'OH-10': [dms_to_dd([43, 0, 4]),  dms_to_dd([87, 53, 10])],\n",
    "               'OH-11': [dms_to_dd([43, 0, 52]), dms_to_dd([87, 53, 14])],\n",
    "               'OH-12': [dms_to_dd([43, 2, 40]), dms_to_dd([87, 52, 3])],\n",
    "               'OH-13': [dms_to_dd([43, 0, 31]), dms_to_dd([87, 51, 10])],\n",
    "               'OH-14': [dms_to_dd([43, 1, 38]), dms_to_dd([87, 51, 48])],\n",
    "               'OH-15': [dms_to_dd([43, 2, 50]), dms_to_dd([87, 53, 13])]}\n",
    "    \n",
    "### SOUTH SHORE\n",
    "elif survey=='SS':\n",
    "    stations = ['SS-01','SS-02','SS-03','SS-04','SS-05','SS-06','SS-07',\n",
    "                'SS-08','SS-09','SS-10','SS-11','SS-12']\n",
    "    \n",
    "    lat_lon = {'SS-01': [dms_to_dd([42, 53, 29]), dms_to_dd([87, 50, 6])],\n",
    "              'SS-02': [dms_to_dd([42, 53, 29]), dms_to_dd([87, 50, 20])],\n",
    "              'SS-03': [dms_to_dd([42, 53, 29]), dms_to_dd([87, 49, 52])],\n",
    "              'SS-04': [dms_to_dd([42, 53, 40]), dms_to_dd([87, 50, 5])],\n",
    "              'SS-05': [dms_to_dd([42, 53, 40]), dms_to_dd([87, 50, 18])],\n",
    "              'SS-06': [dms_to_dd([42, 53, 39]), dms_to_dd([87, 50, 52])],\n",
    "              'SS-07': [dms_to_dd([42, 53, 19]), dms_to_dd([87, 49, 6])],\n",
    "              'SS-08': [dms_to_dd([42, 53, 19]), dms_to_dd([87, 50, 20])],\n",
    "              'SS-09': [dms_to_dd([42, 53, 19]), dms_to_dd([87, 49, 53])],\n",
    "              'SS-10': [dms_to_dd([42, 52, 59]), dms_to_dd([87, 50, 6])],\n",
    "              'SS-11': [dms_to_dd([42, 53, 29]), dms_to_dd([87, 49, 25])],\n",
    "              'SS-12': [dms_to_dd([42, 53, 60]), dms_to_dd([87, 50, 5])]}\n",
    "    \n",
    "### NEAR SHORE\n",
    "elif survey=='NS':\n",
    "    stations = ['NS-01','NS-02','NS-03','NS-04','NS-05','NS-06','NS-07',\n",
    "                'NS-08','NS-09','NS-10','NS-11','NS-12','NS-13','NS-14','NS-27','NS-28']\n",
    "    \n",
    "    stations = ['NS-14','NS-08','NS-05']\n",
    "    stations = ['NS-03']\n",
    "    \n",
    "    lat_lon = {'NS-01': [dms_to_dd([42, 46, 34]), dms_to_dd([87, 42, 6])],\n",
    "              'NS-02': [dms_to_dd([42, 53, 48]), dms_to_dd([87, 48, 18])],\n",
    "              'NS-03': [dms_to_dd([42, 53, 48]), dms_to_dd([87, 44, 42])],\n",
    "              'NS-04': [dms_to_dd([42, 58, 0]), dms_to_dd([87, 50, 30])],\n",
    "              'NS-05': [dms_to_dd([42, 58, 0]), dms_to_dd([87, 48, 24])],\n",
    "              'NS-06': [dms_to_dd([42, 58, 0]), dms_to_dd([87, 44, 42])],\n",
    "              'NS-07': [dms_to_dd([43, 4, 42]), dms_to_dd([87, 50, 48])],\n",
    "              'NS-08': [dms_to_dd([43, 4, 48]), dms_to_dd([87, 48, 18])],\n",
    "              'NS-09': [dms_to_dd([43, 4, 48]), dms_to_dd([87, 44, 42])],\n",
    "              'NS-10': [dms_to_dd([43, 10, 0]), dms_to_dd([87, 44, 42])],\n",
    "              'NS-11': [dms_to_dd([42, 53, 29]), dms_to_dd([87, 49, 25])],\n",
    "              'NS-12': [dms_to_dd([43, 1, 34]), dms_to_dd([87, 53, 29])],\n",
    "              'NS-13': [dms_to_dd([43, 1, 34]), dms_to_dd([87, 52, 57])],\n",
    "              'NS-14': [dms_to_dd([43, 1, 38]), dms_to_dd([87, 51, 48])],\n",
    "              'NS-27': [dms_to_dd([42, 53, 19]), dms_to_dd([87, 50, 6])],\n",
    "              'NS-28': [dms_to_dd([43, 1, 30]), dms_to_dd([87, 53, 47])]}\n",
    "else:\n",
    "    stations, lat_lon = [], []\n",
    "    print('NOT A SURVEY')\n",
    "    \n",
    "    \n",
    "    \n",
    "### =========================\n",
    "### Select sites and dates from MMSD\n",
    "### =========================\n",
    "df_2007_2010 = frame[(frame['Site'].isin(stations)) &\n",
    "                  (frame['Sample Depth']=='S') &\n",
    "                  (frame['Collection Date'].dt.year>=2007)]\n",
    "\n",
    "df_daily_avg = df_2007_2010.groupby([(df_2007_2010['Collection Date'].dt.year.rename('year')),\n",
    "                                   (df_2007_2010['Collection Date'].dt.month.rename('month')),\n",
    "                                   (df_2007_2010['Collection Date'].dt.day.rename('day'))]).mean()\n",
    "\n",
    "\n",
    "### =========================\n",
    "### Convert MMSD time to datetime\n",
    "### This is necessary because it is grouped index\n",
    "### =========================\n",
    "yr, mn, day = [], [], []\n",
    "for i in np.arange(len(df_daily_avg.index)):\n",
    "    yr_tmp, mn_tmp, day_tmp = df_daily_avg.index[i]\n",
    "    yr.append(yr_tmp)\n",
    "    mn.append(mn_tmp)\n",
    "    day.append(day_tmp)\n",
    "    \n",
    "df = pd.DataFrame({'year': yr,'month': mn,'day':day})\n",
    "df_time = pd.to_datetime(df)\n",
    "\n",
    "\n",
    "### =========================\n",
    "### Put MMSD into dataset\n",
    "### =========================\n",
    "ds_MMSD = xr.Dataset(\n",
    "    {'phos': (['time'],  df_daily_avg['Total Phosphorus'].values*1000) },\n",
    "    coords={'time': (['time'], df_time)})"
   ]
  },
  {
   "cell_type": "markdown",
   "metadata": {},
   "source": [
    "# Process Model output\n",
    "Daily output is too much to store on github. To recreate this figure you will\n",
    "need to download daily model output from figshare"
   ]
  },
  {
   "cell_type": "code",
   "execution_count": 7,
   "metadata": {},
   "outputs": [],
   "source": [
    "### ================================================\n",
    "### Load model output\n",
    "### ================================================\n",
    "\n",
    "## <><><><><><><><><><><><><><><><><><><><><>\n",
    "## This directory is not contained in the github repo\n",
    "## <><><><><><><><><><><><><><><><><><><><><>\n",
    "data_dir='/local/data/artemis/workspace/gloege/MITgcm-Michigan-Phosphorus/data/raw/model'\n",
    "\n",
    "ds = xr.open_mfdataset(f'{data_dir}/phos.*.nc') * 2.5\n",
    "\n",
    "ds_tmp = ds['Fox'] + ds['Grand'] + ds['Kalamazoo'] + ds['Manistee'] + ds['Manistique'] \\\n",
    "        + ds['Menominee'] + ds['Milwaukee'] + ds['Muskegon'] + ds['PereMarquette'] \\\n",
    "        + ds['Sheboygan'] + ds['StJoseph']\n",
    "\n",
    "ds_phos = ds_tmp.squeeze()\n",
    "\n",
    "\n",
    "### ================================================\n",
    "### force time vector to be proper format and range\n",
    "### ================================================\n",
    "dates = pd.date_range(start='2007-01-01T00:00:00.000000000', \n",
    "                  end='2010-12-31T00:00:00.000000000',freq='D')\n",
    "#da_dates = xr.DataArray(dates, dims='time')\n",
    "\n",
    "# Put dates into dataset\n",
    "ds_phos['T'] = dates\n",
    "\n",
    "\n",
    "### =========================\n",
    "### Get mean location of MMSD sites\n",
    "### =========================\n",
    "#stations = list(lat_lon.keys())\n",
    "#lats = np.mean([lat_lon[k][0] for k in stations])\n",
    "#lons = np.mean([-lat_lon[k][1] for k in stations])\n",
    "#print([lats, lons])\n",
    "\n",
    "\n",
    "### =========================\n",
    "### Get mean location of MMSD sites\n",
    "### =========================\n",
    "#stations = list(lat_lon.keys())\n",
    "lats = [lat_lon[k][0] for k in stations]\n",
    "lons = [-lat_lon[k][1] for k in stations]\n",
    "#print([lats, lons])\n",
    "\n",
    "### =========================\n",
    "### Put into dataset\n",
    "### =========================\n",
    "ds_MOD = xr.Dataset(\n",
    "    {'phos': (['time'], ds_phos.sel(X=lons, Y=lats, method='nearest').mean(['X', 'Y'])) },\n",
    "    coords={'time': (['time'], ds_phos['T'])})\n",
    "\n",
    "\n",
    "### =========================\n",
    "### Sample model like MMSD\n",
    "### =========================\n",
    "ds_sampled = ds_MOD.where(ds_MOD['time']==ds_MMSD['time'])"
   ]
  },
  {
   "cell_type": "code",
   "execution_count": 8,
   "metadata": {},
   "outputs": [
    {
     "name": "stderr",
     "output_type": "stream",
     "text": [
      "/usr/local/python/anaconda3/lib/python3.6/site-packages/matplotlib/font_manager.py:1328: UserWarning: findfont: Font family ['sans-serif'] not found. Falling back to DejaVu Sans\n",
      "  (prop.get_family(), self.defaultFamily[fontext]))\n"
     ]
    },
    {
     "data": {
      "image/png": "[encoded data removed]",
      "text/plain": [
       "<Figure size 612x612 with 3 Axes>"
      ]
     },
     "metadata": {},
     "output_type": "display_data"
    }
   ],
   "source": [
    "with plt.style.context(('seaborn-paper')):\n",
    "    ### ==============================================================\n",
    "    ### Define grids\n",
    "    ### ==============================================================\n",
    "    fig = plt.figure(figsize=(8.5,8.5))\n",
    "    grid = AxesGrid(fig, 111, \n",
    "                    share_all=False,\n",
    "                    nrows_ncols = (1, 1),\n",
    "                    axes_pad = 0.5,\n",
    "                    aspect=False,\n",
    "                    cbar_mode=\"none\",\n",
    "                    label_mode = '')  # note the empty label_mode\n",
    "\n",
    "    ax1 = grid[0]\n",
    "\n",
    "    ax1.set_ylabel('standardized tracer', color='tab:red', fontsize=14)\n",
    "    ax1.plot(ds_sampled['time'], (ds_sampled['phos']-ds_sampled['phos'].mean())/ds_sampled['phos'].std(), color='tab:red', linewidth=2)\n",
    "    ax1.tick_params(axis='y', labelcolor='tab:red')\n",
    "\n",
    "    # instantiate a second axes that shares the same x-axis\n",
    "    ax2 = ax1.twinx() \n",
    "    ax2.set_ylabel('standardized MMSD', color= 'tab:blue', fontsize=14)  \n",
    "    ax2.plot(ds_MMSD['time'], (ds_MMSD['phos']-ds_MMSD['phos'].mean())/ds_MMSD['phos'].std(), color= 'tab:blue', linewidth=2)\n",
    "    ax2.tick_params(axis='y', labelcolor='tab:blue')\n",
    "\n",
    "    ax1.set_xlim(['2007-01-01', '2011-01-01'])\n",
    "    \n",
    "    ax1.set_yticks(np.arange(-10,16,1))\n",
    "    ax1.set_ylim([-1.1, 5])\n",
    "    \n",
    "    ax2.set_yticks(np.arange(-10,16,1))\n",
    "    ax2.set_ylim([-1.1, 5])\n",
    "\n",
    "    ### ==============================================================\n",
    "    ### Make axes square\n",
    "    ### ==============================================================\n",
    "    #x0,x1 = ax1.get_xlim()\n",
    "    #y0,y1 = ax1.get_ylim()\n",
    "    #ax1.set_aspect(abs(x1-x0)/abs(y1-y0))\n",
    "    #ax1.get_position().bounds\n",
    "\n",
    "    ### ==============================================================\n",
    "    ### Minor ticks\n",
    "    ### ==============================================================\n",
    "    ax1.tick_params(axis='both', \n",
    "               which='both', \n",
    "               direction='in', \n",
    "               width=1, \n",
    "               color='k', \n",
    "               pad=5, \n",
    "               labelsize=12)\n",
    "    ax2.tick_params(axis='both', \n",
    "               which='both', \n",
    "               direction='in', \n",
    "               width=1, \n",
    "               color='k', \n",
    "               pad=5, \n",
    "               labelsize=12)\n",
    "    ax1.xaxis.set_minor_locator(AutoMinorLocator(2))\n",
    "    ax1.yaxis.set_minor_locator(AutoMinorLocator(2))\n",
    "\n",
    "    ax2.xaxis.set_minor_locator(AutoMinorLocator(2))\n",
    "    ax2.yaxis.set_minor_locator(AutoMinorLocator(2))\n",
    "    \n",
    "    ### ==============================================================\n",
    "    ### Shade June July August\n",
    "    ### ==============================================================\n",
    "    tstart = pd.to_datetime('2007-06-01')\n",
    "    tend = pd.to_datetime('2007-08-01')\n",
    "    ax1.axvspan(tstart, tend, alpha=0.2, color='black')\n",
    "    \n",
    "    tstart = pd.to_datetime('2008-06-01')\n",
    "    tend = pd.to_datetime('2008-08-01')\n",
    "    ax1.axvspan(tstart, tend, alpha=0.2, color='black')\n",
    "    \n",
    "    tstart = pd.to_datetime('2009-06-01')\n",
    "    tend = pd.to_datetime('2009-08-01')\n",
    "    ax1.axvspan(tstart, tend, alpha=0.2, color='black')\n",
    "    \n",
    "    tstart = pd.to_datetime('2010-06-01')\n",
    "    tend = pd.to_datetime('2010-08-01')\n",
    "    ax1.axvspan(tstart, tend, alpha=0.2, color='black')\n",
    "    \n",
    "    ### ==============================================================\n",
    "    ### correlation\n",
    "    ### ==============================================================\n",
    "    tstart = pd.to_datetime('2010-01-01')\n",
    "    ax1.text(tstart, 4.75, r'r = 0.71',\n",
    "         {'color': 'k', 'fontsize': 14, 'ha': 'center', 'va': 'center'})\n",
    "    \n",
    "    \n",
    "    tstart = pd.to_datetime('2007-01-01')\n",
    "    tend = pd.to_datetime('2011-01-01')\n",
    "    #median = ds_MMSD['phos'].median().values\n",
    "    ax2.plot([tstart, tend], [0, 0], color='black', linestyle='dashed', linewidth=1, alpha=0.5)\n",
    "    \n",
    "    ### ==============================================================\n",
    "    ### Show peaks\n",
    "    ### ==============================================================\n",
    "    normalized = (ds_sampled['phos']-ds_sampled['phos'].mean())/ds_sampled['phos'].std()\n",
    "    times = ds_sampled['time'].where(normalized>1)\n",
    "    peaks = normalized.where(normalized>1)\n",
    "    ax2.plot(times,peaks+0.1,'*',markersize=10, color='black',zorder=100)"
   ]
  },
  {
   "cell_type": "markdown",
   "metadata": {},
   "source": [
    "# Save Figure"
   ]
  },
  {
   "cell_type": "code",
   "execution_count": 9,
   "metadata": {},
   "outputs": [
    {
     "name": "stderr",
     "output_type": "stream",
     "text": [
      "/usr/local/python/anaconda3/lib/python3.6/site-packages/matplotlib/font_manager.py:1328: UserWarning: findfont: Font family ['sans-serif'] not found. Falling back to DejaVu Sans\n",
      "  (prop.get_family(), self.defaultFamily[fontext]))\n"
     ]
    }
   ],
   "source": [
    "fig.savefig(f'{dir_figs}/Supplemental_Figure_6.pdf', bbox_inches='tight',pad_inches=0)"
   ]
  },
  {
   "cell_type": "markdown",
   "metadata": {},
   "source": [
    "# Statistics"
   ]
  },
  {
   "cell_type": "markdown",
   "metadata": {},
   "source": [
    "### Correlation\n",
    "doesn't matter if did not standardize here, it only shifts the curve"
   ]
  },
  {
   "cell_type": "code",
   "execution_count": 10,
   "metadata": {},
   "outputs": [
    {
     "data": {
      "text/html": [
       "<div>\n",
       "<style scoped>\n",
       "    .dataframe tbody tr th:only-of-type {\n",
       "        vertical-align: middle;\n",
       "    }\n",
       "\n",
       "    .dataframe tbody tr th {\n",
       "        vertical-align: top;\n",
       "    }\n",
       "\n",
       "    .dataframe thead th {\n",
       "        text-align: right;\n",
       "    }\n",
       "</style>\n",
       "<table border=\"1\" class=\"dataframe\">\n",
       "  <thead>\n",
       "    <tr style=\"text-align: right;\">\n",
       "      <th></th>\n",
       "      <th>model</th>\n",
       "      <th>mmsd</th>\n",
       "    </tr>\n",
       "  </thead>\n",
       "  <tbody>\n",
       "    <tr>\n",
       "      <th>model</th>\n",
       "      <td>1.000000</td>\n",
       "      <td>0.710152</td>\n",
       "    </tr>\n",
       "    <tr>\n",
       "      <th>mmsd</th>\n",
       "      <td>0.710152</td>\n",
       "      <td>1.000000</td>\n",
       "    </tr>\n",
       "  </tbody>\n",
       "</table>\n",
       "</div>"
      ],
      "text/plain": [
       "          model      mmsd\n",
       "model  1.000000  0.710152\n",
       "mmsd   0.710152  1.000000"
      ]
     },
     "execution_count": 10,
     "metadata": {},
     "output_type": "execute_result"
    }
   ],
   "source": [
    "import pandas as pd\n",
    "df = pd.DataFrame({'model': ds_sampled['phos'].values,\n",
    "                   'mmsd' : ds_MMSD['phos'].values})\n",
    "\n",
    "df.corr()"
   ]
  },
  {
   "cell_type": "markdown",
   "metadata": {},
   "source": [
    "### Median value"
   ]
  },
  {
   "cell_type": "code",
   "execution_count": 11,
   "metadata": {},
   "outputs": [
    {
     "name": "stdout",
     "output_type": "stream",
     "text": [
      "26.333333333333332\n",
      "0.6893570423126221\n",
      "38.19984669336448\n"
     ]
    }
   ],
   "source": [
    "print(ds_MMSD['phos'].median().values)\n",
    "print(ds_sampled['phos'].median().values)\n",
    "print(ds_MMSD['phos'].median().values/ds_sampled['phos'].median().values)"
   ]
  }
 ],
 "metadata": {
  "kernelspec": {
   "display_name": "Python 3",
   "language": "python",
   "name": "python3"
  },
  "language_info": {
   "codemirror_mode": {
    "name": "ipython",
    "version": 3
   },
   "file_extension": ".py",
   "mimetype": "text/x-python",
   "name": "python",
   "nbconvert_exporter": "python",
   "pygments_lexer": "ipython3",
   "version": "3.6.5"
  }
 },
 "nbformat": 4,
 "nbformat_minor": 2
}
